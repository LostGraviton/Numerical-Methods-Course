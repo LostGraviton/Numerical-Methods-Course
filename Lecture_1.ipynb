{
 "cells": [
  {
   "cell_type": "markdown",
   "metadata": {
    "id": "QnQUJdfC8Hyd"
   },
   "source": [
    "# LEC 1: Introduction to Python"
   ]
  },
  {
   "cell_type": "markdown",
   "metadata": {},
   "source": [
    "## Python Basics"
   ]
  },
  {
   "cell_type": "code",
   "execution_count": 2,
   "metadata": {
    "id": "XtUW7cXC8Hyj"
   },
   "outputs": [
    {
     "name": "stdout",
     "output_type": "stream",
     "text": [
      "Hello, world!\n"
     ]
    }
   ],
   "source": [
    "print(\"Hello, world!\")"
   ]
  },
  {
   "cell_type": "code",
   "execution_count": 4,
   "metadata": {
    "colab": {
     "base_uri": "https://localhost:8080/"
    },
    "id": "j32QjucV8Hyl",
    "outputId": "37017196-8a9a-4dff-a547-f47431138bfa",
    "scrolled": true
   },
   "outputs": [
    {
     "name": "stdout",
     "output_type": "stream",
     "text": [
      "3.141592653589793\n"
     ]
    }
   ],
   "source": [
    "import math\n",
    "print(math.pi)"
   ]
  },
  {
   "cell_type": "markdown",
   "metadata": {},
   "source": [
    "### Data Types"
   ]
  },
  {
   "cell_type": "code",
   "execution_count": 2,
   "metadata": {},
   "outputs": [
    {
     "name": "stdout",
     "output_type": "stream",
     "text": [
      "<class 'int'>\n",
      "<class 'float'>\n"
     ]
    }
   ],
   "source": [
    "b=-87\n",
    "c=90.76\n",
    "print(type(b))\n",
    "print(type(c))"
   ]
  },
  {
   "cell_type": "code",
   "execution_count": 3,
   "metadata": {},
   "outputs": [
    {
     "name": "stdout",
     "output_type": "stream",
     "text": [
      "(3+6j) <class 'complex'>\n"
     ]
    }
   ],
   "source": [
    "d = 3 + 6j\n",
    "print(d,type(d))"
   ]
  },
  {
   "cell_type": "code",
   "execution_count": 4,
   "metadata": {},
   "outputs": [
    {
     "name": "stdout",
     "output_type": "stream",
     "text": [
      "10 <class 'int'>\n"
     ]
    }
   ],
   "source": [
    "e = 0B1010 # binary\n",
    "print(e, type(e))"
   ]
  },
  {
   "cell_type": "code",
   "execution_count": 5,
   "metadata": {},
   "outputs": [
    {
     "name": "stdout",
     "output_type": "stream",
     "text": [
      "255 <class 'int'>\n"
     ]
    }
   ],
   "source": [
    "f= 0xff # hexadecimal\n",
    "print(f, type(f))"
   ]
  },
  {
   "cell_type": "code",
   "execution_count": 14,
   "metadata": {},
   "outputs": [
    {
     "name": "stdout",
     "output_type": "stream",
     "text": [
      "302 <class 'int'>\n"
     ]
    }
   ],
   "source": [
    "y = 0o456 # octal\n",
    "print(y, type(y))"
   ]
  },
  {
   "cell_type": "code",
   "execution_count": 2,
   "metadata": {},
   "outputs": [
    {
     "name": "stdout",
     "output_type": "stream",
     "text": [
      "<class 'bool'>\n",
      "True\n"
     ]
    }
   ],
   "source": [
    "g = True\n",
    "print(type(g))\n",
    "print(9>7)"
   ]
  },
  {
   "cell_type": "code",
   "execution_count": 7,
   "metadata": {},
   "outputs": [
    {
     "name": "stdout",
     "output_type": "stream",
     "text": [
      "33\n"
     ]
    }
   ],
   "source": [
    "x=33.5\n",
    "h=int(x)\n",
    "print(h)"
   ]
  },
  {
   "cell_type": "code",
   "execution_count": 4,
   "metadata": {},
   "outputs": [
    {
     "name": "stdout",
     "output_type": "stream",
     "text": [
      "<class 'str'>\n",
      "22.5\n"
     ]
    }
   ],
   "source": [
    "s = 'sagar' # string\n",
    "print(type(s))\n",
    "x =float('22.5')\n",
    "print(x)"
   ]
  },
  {
   "cell_type": "code",
   "execution_count": 3,
   "metadata": {},
   "outputs": [
    {
     "name": "stdout",
     "output_type": "stream",
     "text": [
      "0b11\n",
      "0o12\n",
      "0x10\n"
     ]
    }
   ],
   "source": [
    "print(bin(3)) # conversions\n",
    "print(oct(10))\n",
    "print(hex(16))"
   ]
  },
  {
   "cell_type": "code",
   "execution_count": 11,
   "metadata": {},
   "outputs": [
    {
     "name": "stdout",
     "output_type": "stream",
     "text": [
      "0o253\n"
     ]
    }
   ],
   "source": [
    "p=0xab # covert from hexadecimal to octal\n",
    "print(oct(p))"
   ]
  },
  {
   "cell_type": "markdown",
   "metadata": {
    "id": "JUr8-KyA8Hyn"
   },
   "source": [
    "### Variables\n",
    "\n",
    "Python is strongly, dynamically typed."
   ]
  },
  {
   "cell_type": "code",
   "execution_count": 4,
   "metadata": {
    "id": "5RX-4coL8Hyo"
   },
   "outputs": [
    {
     "name": "stdout",
     "output_type": "stream",
     "text": [
      "1.0\n",
      "2\n"
     ]
    }
   ],
   "source": [
    "x = 1.0\n",
    "print(x)\n",
    "\n",
    "x = 2\n",
    "print(x)"
   ]
  },
  {
   "cell_type": "code",
   "execution_count": 6,
   "metadata": {
    "id": "40mY6E1G8Hyq"
   },
   "outputs": [],
   "source": [
    "y = \"test\""
   ]
  },
  {
   "cell_type": "code",
   "execution_count": 7,
   "metadata": {
    "id": "OtIp00GT8Hyr"
   },
   "outputs": [
    {
     "name": "stdout",
     "output_type": "stream",
     "text": [
      "test\n"
     ]
    }
   ],
   "source": [
    "print(y)"
   ]
  },
  {
   "cell_type": "code",
   "execution_count": 8,
   "metadata": {
    "id": "_etbxgGR8Hyu"
   },
   "outputs": [
    {
     "name": "stdout",
     "output_type": "stream",
     "text": [
      "string\n"
     ]
    }
   ],
   "source": [
    "x = 1\n",
    "x = \"string\"\n",
    "print(x)"
   ]
  },
  {
   "cell_type": "code",
   "execution_count": 9,
   "metadata": {
    "id": "4CFY4jf58Hyv"
   },
   "outputs": [
    {
     "name": "stdout",
     "output_type": "stream",
     "text": [
      "<class 'int'>\n"
     ]
    }
   ],
   "source": [
    "x = 1\n",
    "print(type(x))"
   ]
  },
  {
   "cell_type": "code",
   "execution_count": 10,
   "metadata": {
    "id": "OpVWkMyd8Hyy"
   },
   "outputs": [
    {
     "name": "stdout",
     "output_type": "stream",
     "text": [
      "<class 'str'>\n"
     ]
    }
   ],
   "source": [
    "x = \"string\"\n",
    "print(type(x))"
   ]
  },
  {
   "cell_type": "code",
   "execution_count": 11,
   "metadata": {
    "id": "kzuoPDmK8Hyz"
   },
   "outputs": [
    {
     "name": "stdout",
     "output_type": "stream",
     "text": [
      "<class 'float'>\n"
     ]
    }
   ],
   "source": [
    "x = 0.1\n",
    "print(type(x))"
   ]
  },
  {
   "cell_type": "code",
   "execution_count": 12,
   "metadata": {
    "id": "H5035Uhw8Hy1"
   },
   "outputs": [
    {
     "data": {
      "text/plain": [
       "float"
      ]
     },
     "execution_count": 12,
     "metadata": {},
     "output_type": "execute_result"
    }
   ],
   "source": [
    "x = 0.1\n",
    "type(x)"
   ]
  },
  {
   "cell_type": "markdown",
   "metadata": {
    "id": "20Ecdo8c8Hy6"
   },
   "source": [
    "### Basic Arithmetic\n",
    "\n",
    "Operators for integers:\n",
    "`+ - * / // % **`\n",
    "\n",
    "Operators for floats:\n",
    "`+ - * / **`\n",
    "\n",
    "Boolean expressions:\n",
    "* keywords: `True` and `False` (note capitalization)\n",
    "* `==` equals: `5 == 5` yields `True`\n",
    "* `!=` does not equal: `5 != 5` yields `False`\n",
    "* `>` greater than: `5 > 4` yields `True`\n",
    "* `>=` greater than or equal: `5 >= 5` yields `True`\n",
    "* Similarly, we have `<` and `<=`.\n",
    "\n",
    "Logical operators:\n",
    "* `and`, `or`, and `not`\n",
    "* `True and False`\n",
    "* `True or False`\n",
    "* `not True`"
   ]
  },
  {
   "cell_type": "code",
   "execution_count": 47,
   "metadata": {},
   "outputs": [
    {
     "data": {
      "text/plain": [
       "12.571428571428571"
      ]
     },
     "execution_count": 47,
     "metadata": {},
     "output_type": "execute_result"
    }
   ],
   "source": [
    "88/7  # 88 is dividend and 7 is divisor"
   ]
  },
  {
   "cell_type": "code",
   "execution_count": 45,
   "metadata": {},
   "outputs": [
    {
     "data": {
      "text/plain": [
       "12"
      ]
     },
     "execution_count": 45,
     "metadata": {},
     "output_type": "execute_result"
    }
   ],
   "source": [
    "88//7  # gives quotient"
   ]
  },
  {
   "cell_type": "code",
   "execution_count": 46,
   "metadata": {},
   "outputs": [
    {
     "data": {
      "text/plain": [
       "4"
      ]
     },
     "execution_count": 46,
     "metadata": {},
     "output_type": "execute_result"
    }
   ],
   "source": [
    "88%7  # gives remainder"
   ]
  },
  {
   "cell_type": "code",
   "execution_count": 5,
   "metadata": {},
   "outputs": [
    {
     "data": {
      "text/plain": [
       "25"
      ]
     },
     "execution_count": 5,
     "metadata": {},
     "output_type": "execute_result"
    }
   ],
   "source": [
    "5**2"
   ]
  },
  {
   "cell_type": "markdown",
   "metadata": {
    "id": "LzBJteCg8Hy9"
   },
   "source": [
    "### Strings\n",
    "\n",
    "Concatenation: `str1 + str2`\n",
    "\n",
    "Printing: `print(str1)`"
   ]
  },
  {
   "cell_type": "code",
   "execution_count": 13,
   "metadata": {
    "id": "2VyE59Vv8Hy9"
   },
   "outputs": [
    {
     "data": {
      "text/plain": [
       "'Hello, World!'"
      ]
     },
     "execution_count": 13,
     "metadata": {},
     "output_type": "execute_result"
    }
   ],
   "source": [
    "str1 = \"Hello, \"\n",
    "str2 = \"World!\"\n",
    "str3 = str1 + str2\n",
    "str3"
   ]
  },
  {
   "cell_type": "code",
   "execution_count": 14,
   "metadata": {
    "id": "jP8XquCe8Hy_"
   },
   "outputs": [
    {
     "name": "stdout",
     "output_type": "stream",
     "text": [
      "Hello, World!\n"
     ]
    }
   ],
   "source": [
    "print(str3)"
   ]
  },
  {
   "cell_type": "code",
   "execution_count": 8,
   "metadata": {},
   "outputs": [
    {
     "name": "stdout",
     "output_type": "stream",
     "text": [
      "you are awesome\n",
      "y o\n",
      "15\n"
     ]
    }
   ],
   "source": [
    "k = \"you are awesome\"\n",
    "print(k)\n",
    "print(k[0],k[1])\n",
    "print(len(k))"
   ]
  },
  {
   "cell_type": "code",
   "execution_count": 9,
   "metadata": {},
   "outputs": [
    {
     "name": "stdout",
     "output_type": "stream",
     "text": [
      "you ar\n",
      "yuaea\n",
      "emosewa era uoy\n",
      "e\n"
     ]
    }
   ],
   "source": [
    "# string slicing\n",
    "print(k[0:6])\n",
    "print(k[0:9:2])\n",
    "print(k[::-1])\n",
    "print(k[-1])"
   ]
  },
  {
   "cell_type": "code",
   "execution_count": 29,
   "metadata": {},
   "outputs": [
    {
     "name": "stdout",
     "output_type": "stream",
     "text": [
      "4\n",
      "2\n"
     ]
    }
   ],
   "source": [
    "print(k.find(\"a\"))\n",
    "print(k.count(\"a\"))"
   ]
  },
  {
   "cell_type": "markdown",
   "metadata": {
    "id": "1kqtkiau8HzA"
   },
   "source": [
    "#### Formatting:"
   ]
  },
  {
   "cell_type": "code",
   "execution_count": 19,
   "metadata": {
    "id": "xm-qmBHj8HzB"
   },
   "outputs": [
    {
     "data": {
      "text/plain": [
       "\"Alice's numbers are 23 and 52, and their sum is 75\""
      ]
     },
     "execution_count": 19,
     "metadata": {},
     "output_type": "execute_result"
    }
   ],
   "source": [
    "x = 23\n",
    "y = 52\n",
    "name = \"Alice\"\n",
    "\n",
    "str1 = f\"{name}'s numbers are {x} and {y}, and their sum is {x + y}\"\n",
    "str1"
   ]
  },
  {
   "cell_type": "code",
   "execution_count": 6,
   "metadata": {
    "id": "ZIbhmVBK8HzD"
   },
   "outputs": [
    {
     "name": "stdout",
     "output_type": "stream",
     "text": [
      "a:(1, hello)\n",
      " 1.000000, hello, 5 \n",
      "c: 3.14 \n"
     ]
    }
   ],
   "source": [
    "str1 = \"a: %s\" % \"sagar\"\n",
    "\n",
    "str1 = 'a:(1, hello)'\n",
    "\n",
    "print(str1)\n",
    "\n",
    "str2 = \" %f, %s, %d \" % (1.0, 'hello', 5)\n",
    "print(str2)\n",
    "\n",
    "str3 = \"c: {} \".format(3.14)\n",
    "print(str3)"
   ]
  },
  {
   "cell_type": "code",
   "execution_count": 32,
   "metadata": {
    "id": "iK3dodc28HzG"
   },
   "outputs": [
    {
     "name": "stdout",
     "output_type": "stream",
     "text": [
      "Hello, World!\n",
      "HELLO, WORLD!\n",
      "hello, world!\n"
     ]
    }
   ],
   "source": [
    "# some methods\n",
    "str1 = \"Hello, World!\"\n",
    "print(str1)\n",
    "print(str1.upper())\n",
    "print(str1.lower())"
   ]
  },
  {
   "cell_type": "code",
   "execution_count": 33,
   "metadata": {
    "id": "XbabVfOh8HzI"
   },
   "outputs": [],
   "source": [
    "str1.replace?"
   ]
  },
  {
   "cell_type": "code",
   "execution_count": 34,
   "metadata": {
    "id": "_uxZsOoG8HzM"
   },
   "outputs": [
    {
     "data": {
      "text/plain": [
       "'Heppo, Worpd!'"
      ]
     },
     "execution_count": 34,
     "metadata": {},
     "output_type": "execute_result"
    }
   ],
   "source": [
    "str1.replace('l', 'p')"
   ]
  },
  {
   "cell_type": "markdown",
   "metadata": {
    "id": "bdkb1Xx-8HzN"
   },
   "source": [
    "### Control Flow\n",
    "\n",
    "If statements:"
   ]
  },
  {
   "cell_type": "code",
   "execution_count": 8,
   "metadata": {
    "id": "yv5iqxw68HzO"
   },
   "outputs": [
    {
     "name": "stdout",
     "output_type": "stream",
     "text": [
      "???\n"
     ]
    }
   ],
   "source": [
    "x = 2\n",
    "y = 1  \n",
    "z = 3\n",
    "if x == y:\n",
    "    print(\"Hello\") #indentation\n",
    "elif x == z:\n",
    "    print(\"Goodbye\")    \n",
    "else:\n",
    "    print(\"???\")"
   ]
  },
  {
   "cell_type": "markdown",
   "metadata": {
    "id": "OIe2KFBb8HzP"
   },
   "source": [
    "#### For loops\n"
   ]
  },
  {
   "cell_type": "code",
   "execution_count": 9,
   "metadata": {
    "id": "0-QZIuIt8HzQ"
   },
   "outputs": [
    {
     "name": "stdout",
     "output_type": "stream",
     "text": [
      "loop 1\n",
      "0\n",
      "1\n",
      "2\n",
      "3\n",
      "4\n",
      "5\n",
      "\n",
      "loop 2\n",
      "10\n",
      "8\n",
      "6\n",
      "4\n"
     ]
    }
   ],
   "source": [
    "print(\"loop 1\")\n",
    "for i in range(6): # default - start at 0, increment by 1\n",
    "    print(i)\n",
    "\n",
    "print(\"\\nloop 2\")\n",
    "for i in range(10, 2, -2): # inputs are start, stop, step\n",
    "    print(i)"
   ]
  },
  {
   "cell_type": "markdown",
   "metadata": {
    "id": "pXYCFYin8HzT"
   },
   "source": [
    "#### while loops"
   ]
  },
  {
   "cell_type": "code",
   "execution_count": 1,
   "metadata": {
    "id": "JTg1MHr-8HzU"
   },
   "outputs": [
    {
     "name": "stdout",
     "output_type": "stream",
     "text": [
      "1\n",
      "4\n",
      "36\n",
      "1764\n"
     ]
    }
   ],
   "source": [
    "i = 1\n",
    "while i < 100:\n",
    "    print(i**2)\n",
    "    i += i**2  # i = i + i**2, a += b means a = a+b"
   ]
  },
  {
   "cell_type": "markdown",
   "metadata": {
    "id": "fxHXmTLo8HzV"
   },
   "source": [
    "**continue** - skip the rest of a loop\n",
    "\n",
    "**break** - exit from the loop\n",
    "\n",
    "**pass** - does nothing"
   ]
  },
  {
   "cell_type": "code",
   "execution_count": 12,
   "metadata": {
    "id": "cSHQygsx8HzW"
   },
   "outputs": [
    {
     "name": "stdout",
     "output_type": "stream",
     "text": [
      "Found 2, an odd number\n",
      "Found 3, an odd number\n",
      "Found 4, an odd number\n",
      "Found 5, an odd number\n",
      "Found 6, an odd number\n",
      "Found 7, an odd number\n",
      "Found 8, an odd number\n",
      "Found 9, an odd number\n"
     ]
    }
   ],
   "source": [
    "for num in range(2, 10):\n",
    "    if num % 2 == 0:\n",
    "          pass    # this jumps us back to the top\n",
    "    print(f\"Found {num}, an odd number\")"
   ]
  },
  {
   "cell_type": "code",
   "execution_count": 8,
   "metadata": {
    "id": "M5jRi3K48HzX"
   },
   "outputs": [
    {
     "name": "stdout",
     "output_type": "stream",
     "text": [
      "64 equals 2 * 32\n",
      "64 equals 4 * 16\n",
      "64 equals 8 * 8\n",
      "64 equals 16 * 4\n",
      "64 equals 32 * 2\n"
     ]
    }
   ],
   "source": [
    "n = 64\n",
    "for x in range(2, n):\n",
    "    if n % x == 0: # if n divisible by x\n",
    "        print(f'{n} equals {x} * {n // x}')\n",
    "        # break"
   ]
  },
  {
   "cell_type": "markdown",
   "metadata": {
    "id": "8zlOsOa68HzZ"
   },
   "source": [
    "**pass** does nothing"
   ]
  },
  {
   "cell_type": "code",
   "execution_count": 54,
   "metadata": {
    "id": "FHfnbtRA8HzZ"
   },
   "outputs": [
    {
     "name": "stdout",
     "output_type": "stream",
     "text": [
      "True!\n"
     ]
    }
   ],
   "source": [
    "if False:\n",
    "    pass # to implement\n",
    "else:\n",
    "    print('True!')"
   ]
  },
  {
   "cell_type": "markdown",
   "metadata": {
    "id": "h7zbrmUE8Hzb"
   },
   "source": [
    "### Exceptions"
   ]
  },
  {
   "cell_type": "code",
   "execution_count": 8,
   "metadata": {
    "id": "pyhD7SMf8Hzc",
    "scrolled": true
   },
   "outputs": [
    {
     "ename": "ZeroDivisionError",
     "evalue": "division by zero",
     "output_type": "error",
     "traceback": [
      "\u001b[1;31m---------------------------------------------------------------------------\u001b[0m",
      "\u001b[1;31mZeroDivisionError\u001b[0m                         Traceback (most recent call last)",
      "\u001b[1;32m~\\AppData\\Local\\Temp/ipykernel_2116/3039867184.py\u001b[0m in \u001b[0;36m<module>\u001b[1;34m\u001b[0m\n\u001b[1;32m----> 1\u001b[1;33m \u001b[1;36m100\u001b[0m \u001b[1;33m/\u001b[0m \u001b[1;36m0\u001b[0m\u001b[1;33m\u001b[0m\u001b[1;33m\u001b[0m\u001b[0m\n\u001b[0m",
      "\u001b[1;31mZeroDivisionError\u001b[0m: division by zero"
     ]
    }
   ],
   "source": [
    "100 / 0"
   ]
  },
  {
   "cell_type": "code",
   "execution_count": 6,
   "metadata": {
    "id": "S5cFf3NX8Hzd"
   },
   "outputs": [
    {
     "name": "stdout",
     "output_type": "stream",
     "text": [
      "We divided by zero\n"
     ]
    }
   ],
   "source": [
    "try:\n",
    "    x = 109 / 0\n",
    "except ZeroDivisionError:\n",
    "    print(\"We divided by zero\")"
   ]
  },
  {
   "cell_type": "markdown",
   "metadata": {
    "id": "y9uqyqff8Hzf"
   },
   "source": [
    "### Functions\n",
    "\n",
    "Functions are declared with the keyword `def`"
   ]
  },
  {
   "cell_type": "code",
   "execution_count": 13,
   "metadata": {
    "id": "bjYodnNa8Hzf"
   },
   "outputs": [
    {
     "data": {
      "text/plain": [
       "6.0"
      ]
     },
     "execution_count": 13,
     "metadata": {},
     "output_type": "execute_result"
    }
   ],
   "source": [
    "# def tells python you're trying to declare a function\n",
    "\n",
    "def area(b, h):\n",
    "    return 0.5 * b * h\n",
    "\n",
    "area(3, 4)"
   ]
  },
  {
   "cell_type": "code",
   "execution_count": 12,
   "metadata": {
    "id": "9r9CyvGn8Hzg"
   },
   "outputs": [
    {
     "ename": "ValueError",
     "evalue": "Base and height must be non-negative",
     "output_type": "error",
     "traceback": [
      "\u001b[1;31m---------------------------------------------------------------------------\u001b[0m",
      "\u001b[1;31mValueError\u001b[0m                                Traceback (most recent call last)",
      "\u001b[1;32m~\\AppData\\Local\\Temp/ipykernel_2116/2119930096.py\u001b[0m in \u001b[0;36m<module>\u001b[1;34m\u001b[0m\n\u001b[0;32m      4\u001b[0m     \u001b[1;32mreturn\u001b[0m \u001b[1;36m0.5\u001b[0m \u001b[1;33m*\u001b[0m \u001b[0mbase\u001b[0m \u001b[1;33m*\u001b[0m \u001b[0mheight\u001b[0m\u001b[1;33m\u001b[0m\u001b[1;33m\u001b[0m\u001b[0m\n\u001b[0;32m      5\u001b[0m \u001b[1;33m\u001b[0m\u001b[0m\n\u001b[1;32m----> 6\u001b[1;33m \u001b[0mtriangle_area\u001b[0m\u001b[1;33m(\u001b[0m\u001b[1;36m2\u001b[0m\u001b[1;33m,\u001b[0m \u001b[1;33m-\u001b[0m\u001b[1;36m2\u001b[0m\u001b[1;33m)\u001b[0m\u001b[1;33m\u001b[0m\u001b[1;33m\u001b[0m\u001b[0m\n\u001b[0m",
      "\u001b[1;32m~\\AppData\\Local\\Temp/ipykernel_2116/2119930096.py\u001b[0m in \u001b[0;36mtriangle_area\u001b[1;34m(base, height)\u001b[0m\n\u001b[0;32m      1\u001b[0m \u001b[1;32mdef\u001b[0m \u001b[0mtriangle_area\u001b[0m\u001b[1;33m(\u001b[0m\u001b[0mbase\u001b[0m\u001b[1;33m,\u001b[0m \u001b[0mheight\u001b[0m\u001b[1;33m)\u001b[0m\u001b[1;33m:\u001b[0m\u001b[1;33m\u001b[0m\u001b[1;33m\u001b[0m\u001b[0m\n\u001b[0;32m      2\u001b[0m     \u001b[1;32mif\u001b[0m \u001b[0mbase\u001b[0m \u001b[1;33m<\u001b[0m \u001b[1;36m0\u001b[0m \u001b[1;32mor\u001b[0m \u001b[0mheight\u001b[0m \u001b[1;33m<\u001b[0m \u001b[1;36m0\u001b[0m\u001b[1;33m:\u001b[0m\u001b[1;33m\u001b[0m\u001b[1;33m\u001b[0m\u001b[0m\n\u001b[1;32m----> 3\u001b[1;33m         \u001b[1;32mraise\u001b[0m \u001b[0mValueError\u001b[0m\u001b[1;33m(\u001b[0m\u001b[1;34m\"Base and height must be non-negative\"\u001b[0m\u001b[1;33m)\u001b[0m\u001b[1;33m\u001b[0m\u001b[1;33m\u001b[0m\u001b[0m\n\u001b[0m\u001b[0;32m      4\u001b[0m     \u001b[1;32mreturn\u001b[0m \u001b[1;36m0.5\u001b[0m \u001b[1;33m*\u001b[0m \u001b[0mbase\u001b[0m \u001b[1;33m*\u001b[0m \u001b[0mheight\u001b[0m\u001b[1;33m\u001b[0m\u001b[1;33m\u001b[0m\u001b[0m\n\u001b[0;32m      5\u001b[0m \u001b[1;33m\u001b[0m\u001b[0m\n",
      "\u001b[1;31mValueError\u001b[0m: Base and height must be non-negative"
     ]
    }
   ],
   "source": [
    "def triangle_area(base, height):\n",
    "    if base < 0 or height < 0:\n",
    "        raise ValueError(\"Base and height must be non-negative\")\n",
    "    return 0.5 * base * height\n",
    "\n",
    "triangle_area(2, -2)"
   ]
  },
  {
   "cell_type": "code",
   "execution_count": 13,
   "metadata": {
    "id": "vfKncnVn8Hzi"
   },
   "outputs": [
    {
     "data": {
      "text/plain": [
       "6"
      ]
     },
     "execution_count": 13,
     "metadata": {},
     "output_type": "execute_result"
    }
   ],
   "source": [
    "# everything in python is an object, and can be passed into a function\n",
    "def f(x):\n",
    "    return x+2\n",
    "\n",
    "def twice(f, x):\n",
    "    return f(f(x))\n",
    "\n",
    "twice(f, 2) # + 4"
   ]
  },
  {
   "cell_type": "code",
   "execution_count": 15,
   "metadata": {
    "id": "709kJ1ug8Hzm"
   },
   "outputs": [],
   "source": [
    "def g(a, x, b=2):\n",
    "    return a * x + b"
   ]
  },
  {
   "cell_type": "code",
   "execution_count": 18,
   "metadata": {
    "id": "snOpwdyx8Hzn"
   },
   "outputs": [
    {
     "data": {
      "text/plain": [
       "12"
      ]
     },
     "execution_count": 18,
     "metadata": {},
     "output_type": "execute_result"
    }
   ],
   "source": [
    "g(2, 5, 2)"
   ]
  },
  {
   "cell_type": "code",
   "execution_count": 17,
   "metadata": {
    "id": "Awk4anAZ8Hzp"
   },
   "outputs": [
    {
     "data": {
      "text/plain": [
       "10"
      ]
     },
     "execution_count": 17,
     "metadata": {},
     "output_type": "execute_result"
    }
   ],
   "source": [
    "g(2, 5)"
   ]
  },
  {
   "cell_type": "markdown",
   "metadata": {
    "id": "gplSGFQ58Hzr"
   },
   "source": [
    "### Exercise 1\n",
    "\n",
    "1. Print every power of 2 less than 10,000\n",
    "2. Write a function that takes two inputs, $a$ and $b$ and returns the value of $a+2b$\n",
    "3. Write a function takes a number $n$ as input, and prints all [Fibonacci numbers](https://en.wikipedia.org/wiki/Fibonacci_number) less than $n$"
   ]
  },
  {
   "cell_type": "code",
   "execution_count": 33,
   "metadata": {
    "id": "VWLuoKhC8Hzs"
   },
   "outputs": [
    {
     "name": "stdout",
     "output_type": "stream",
     "text": [
      "Choose n: 100\n",
      "Choose a1: 0\n",
      "Choose a2: 1\n",
      "0\n",
      "1\n",
      "1\n",
      "2\n",
      "3\n",
      "5\n",
      "8\n",
      "13\n",
      "21\n",
      "34\n",
      "55\n",
      "89\n"
     ]
    }
   ],
   "source": [
    "# ex 3 \n",
    "\n",
    "n = int(input(\"Choose n: \"))\n",
    "a1 = int(input(\"Choose a1: \"))\n",
    "a2 = int(input(\"Choose a2: \"))\n",
    "print(a1)\n",
    "print(a2)\n",
    "a = a1 + a2\n",
    "\n",
    "while a <= n: \n",
    "    print(a)\n",
    "    a1 = a2\n",
    "    a2 = a\n",
    "    a = a1 + a2"
   ]
  },
  {
   "cell_type": "markdown",
   "metadata": {
    "id": "wGdXj-Ws8Hzu"
   },
   "source": [
    "### Lists\n",
    "\n",
    "A list in Python is an ordered collection of objects"
   ]
  },
  {
   "cell_type": "code",
   "execution_count": 6,
   "metadata": {
    "id": "vOEWvPQn8Hzu"
   },
   "outputs": [
    {
     "name": "stdout",
     "output_type": "stream",
     "text": [
      "['x', 1, 3.5]\n"
     ]
    }
   ],
   "source": [
    "a = ['x', 1, 3.5]\n",
    "print(a)"
   ]
  },
  {
   "cell_type": "markdown",
   "metadata": {
    "id": "Fk4CNmDR8Hz0"
   },
   "source": [
    "Python indexing starts at 0."
   ]
  },
  {
   "cell_type": "code",
   "execution_count": 8,
   "metadata": {
    "id": "JuAwfEVH8Hz0"
   },
   "outputs": [],
   "source": [
    "a.remove?"
   ]
  },
  {
   "cell_type": "code",
   "execution_count": 9,
   "metadata": {},
   "outputs": [
    {
     "name": "stdout",
     "output_type": "stream",
     "text": [
      "['x', 3.5]\n"
     ]
    }
   ],
   "source": [
    "a.remove(1)\n",
    "print(a)"
   ]
  },
  {
   "cell_type": "markdown",
   "metadata": {
    "id": "CzSaLHLG8Hz2"
   },
   "source": [
    "You can append to lists using `.append()`, and do other operations, such as `pop()`, `insert()`, etc."
   ]
  },
  {
   "cell_type": "code",
   "execution_count": 1,
   "metadata": {
    "id": "zWcBnYMd8Hz3"
   },
   "outputs": [
    {
     "name": "stdout",
     "output_type": "stream",
     "text": [
      "[0, 1, 4, 9, 16, 25, 36, 49, 64, 81]\n",
      "[0, 1, 4, 9, 16, 25, 36, 49, 64]\n"
     ]
    },
    {
     "data": {
      "text/plain": [
       "[7, 0, 1, 4, 9, 16, 25, 36, 49, 64]"
      ]
     },
     "execution_count": 1,
     "metadata": {},
     "output_type": "execute_result"
    }
   ],
   "source": [
    "a = []\n",
    "for i in range(10):\n",
    "    a.append(i**2)\n",
    "    \n",
    "print(a)    \n",
    "a.pop()\n",
    "print(a)\n",
    "\n",
    "a.insert(0,7)\n",
    "a"
   ]
  },
  {
   "cell_type": "code",
   "execution_count": 13,
   "metadata": {
    "id": "M6hiHisp8Hz5"
   },
   "outputs": [
    {
     "name": "stdout",
     "output_type": "stream",
     "text": [
      "81\n",
      "64\n",
      "49\n",
      "36\n",
      "25\n",
      "16\n",
      "9\n",
      "4\n",
      "1\n",
      "0\n"
     ]
    }
   ],
   "source": [
    "while len(a) > 0:\n",
    "    elt = a.pop()\n",
    "    print(elt)"
   ]
  },
  {
   "cell_type": "markdown",
   "metadata": {
    "id": "mwmTYTDH8Hz8"
   },
   "source": [
    "Python terminology:\n",
    "* a list is a \"class\"\n",
    "* the variable `a` is an object, or instance of the class\n",
    "* `append()` is a method"
   ]
  },
  {
   "cell_type": "markdown",
   "metadata": {
    "id": "9eOPqqSP8Hz9"
   },
   "source": [
    "### List Comprehensions\n",
    "\n",
    "Python's list comprehensions let you create lists in a way that is reminiscent of set notation\n",
    "\n",
    "$$ S = \\{ \\sqrt{x} ~\\mid~ 0 \\le x \\le 20,  \\, \\, x \\, mod \\, 3 = 0\\}$$"
   ]
  },
  {
   "cell_type": "code",
   "execution_count": 32,
   "metadata": {
    "id": "m7pvbh0i8Hz9"
   },
   "outputs": [
    {
     "data": {
      "text/plain": [
       "[0.0,\n",
       " 1.7320508075688772,\n",
       " 2.449489742783178,\n",
       " 3.0,\n",
       " 3.4641016151377544,\n",
       " 3.872983346207417,\n",
       " 4.242640687119285]"
      ]
     },
     "execution_count": 32,
     "metadata": {},
     "output_type": "execute_result"
    }
   ],
   "source": [
    "import math\n",
    "S = [math.sqrt(x) for x in range(20) if x % 3 == 0]\n",
    "S"
   ]
  },
  {
   "cell_type": "code",
   "execution_count": 34,
   "metadata": {
    "id": "0xsqRuh78Hz_"
   },
   "outputs": [
    {
     "data": {
      "text/plain": [
       "[(0, 0, 0),\n",
       " (0, 0, 1),\n",
       " (0, 1, 0),\n",
       " (0, 1, 1),\n",
       " (1, 0, 0),\n",
       " (1, 0, 1),\n",
       " (1, 1, 0),\n",
       " (1, 1, 1)]"
      ]
     },
     "execution_count": 34,
     "metadata": {},
     "output_type": "execute_result"
    }
   ],
   "source": [
    "S = []\n",
    "for i in range(2):\n",
    "    for j in range(2):\n",
    "        for k in range(2):\n",
    "            S += [(i,j,k)]\n",
    "S"
   ]
  },
  {
   "cell_type": "code",
   "execution_count": 35,
   "metadata": {
    "id": "pnqNOxRv8H0B"
   },
   "outputs": [
    {
     "data": {
      "text/plain": [
       "[(0, 0, 0),\n",
       " (0, 0, 1),\n",
       " (0, 1, 0),\n",
       " (0, 1, 1),\n",
       " (1, 0, 0),\n",
       " (1, 0, 1),\n",
       " (1, 1, 0),\n",
       " (1, 1, 1)]"
      ]
     },
     "execution_count": 35,
     "metadata": {},
     "output_type": "execute_result"
    }
   ],
   "source": [
    "# you aren't restricted to a single for loop\n",
    "S = [(i,j,k) for i in range(2) for j in range(2) for k in range(2)]\n",
    "S"
   ]
  },
  {
   "cell_type": "markdown",
   "metadata": {
    "id": "zpZx90Qg8H0C"
   },
   "source": [
    "Syntax is generally\n",
    "```python3\n",
    "S = [<elt> <for statement> <conditional>]\n",
    "```"
   ]
  },
  {
   "cell_type": "markdown",
   "metadata": {
    "id": "gP-Mtaqf8H0C"
   },
   "source": [
    "### Other Collections\n",
    "\n",
    "We've seen the `list` class, which is ordered, indexed, and mutable.  There are other Python collections that you may find useful:\n",
    "* `tuple` which is ordered, indexed, and immutable\n",
    "* `set` which is unordered, unindexed, mutable, and doesn't allow for duplicate elements\n",
    "* `dict` (dictionary), which is unordered, indexed, and mutable, with no duplicate keys."
   ]
  },
  {
   "cell_type": "code",
   "execution_count": 36,
   "metadata": {
    "id": "oW4fQGbH8H0D"
   },
   "outputs": [
    {
     "ename": "TypeError",
     "evalue": "'tuple' object does not support item assignment",
     "output_type": "error",
     "traceback": [
      "\u001b[1;31m---------------------------------------------------------------------------\u001b[0m",
      "\u001b[1;31mTypeError\u001b[0m                                 Traceback (most recent call last)",
      "\u001b[1;32m~\\AppData\\Local\\Temp/ipykernel_15332/1580541770.py\u001b[0m in \u001b[0;36m<module>\u001b[1;34m\u001b[0m\n\u001b[0;32m      1\u001b[0m \u001b[0ma_tuple\u001b[0m \u001b[1;33m=\u001b[0m \u001b[1;33m(\u001b[0m\u001b[1;36m1\u001b[0m\u001b[1;33m,\u001b[0m \u001b[1;36m2\u001b[0m\u001b[1;33m,\u001b[0m \u001b[1;36m4\u001b[0m\u001b[1;33m)\u001b[0m\u001b[1;33m\u001b[0m\u001b[1;33m\u001b[0m\u001b[0m\n\u001b[1;32m----> 2\u001b[1;33m \u001b[0ma_tuple\u001b[0m\u001b[1;33m[\u001b[0m\u001b[1;36m0\u001b[0m\u001b[1;33m]\u001b[0m \u001b[1;33m=\u001b[0m \u001b[1;36m3\u001b[0m\u001b[1;33m\u001b[0m\u001b[1;33m\u001b[0m\u001b[0m\n\u001b[0m",
      "\u001b[1;31mTypeError\u001b[0m: 'tuple' object does not support item assignment"
     ]
    }
   ],
   "source": [
    "a_tuple = (1, 2, 4)\n",
    "a_tuple[0] = 3"
   ]
  },
  {
   "cell_type": "code",
   "execution_count": 14,
   "metadata": {
    "id": "eACjJNZk8H0E"
   },
   "outputs": [
    {
     "data": {
      "text/plain": [
       "[5, 3, 2, 5]"
      ]
     },
     "execution_count": 14,
     "metadata": {},
     "output_type": "execute_result"
    }
   ],
   "source": [
    "a_set = {5, 3, 2, 5}\n",
    "a_set"
   ]
  },
  {
   "cell_type": "code",
   "execution_count": 38,
   "metadata": {
    "id": "5Vl1t8Kb8H0G"
   },
   "outputs": [
    {
     "data": {
      "text/plain": [
       "{5: 12, 'key_2': 27, 'key_3': [13, 'value']}"
      ]
     },
     "execution_count": 38,
     "metadata": {},
     "output_type": "execute_result"
    }
   ],
   "source": [
    "a_dict = {}\n",
    "a_dict[5] = 12\n",
    "a_dict[\"key_2\"] = 27\n",
    "a_dict[\"key_3\"] = [13, \"value\"]\n",
    "a_dict"
   ]
  },
  {
   "cell_type": "markdown",
   "metadata": {
    "id": "Clu4cEls8H0I"
   },
   "source": [
    "### Exercise 2\n",
    "\n",
    "**Lists**\n",
    "1. Create a list `['a', 'b', 'c']`\n",
    "2. use the `insert()` method to put the element `'d'` at index 1\n",
    "3. use the `remove()` method to delete the element `'b'` in the list\n",
    "\n",
    "**List comprehensions**\n",
    "1. What does the following list contain?\n",
    "```python \n",
    "X = [i for i in range(100)]\n",
    "```\n",
    "2. Interpret the following set as a list comprehension:\n",
    "$S_1 = \\{x\\in X \\mid x\\mod 5 = 2\\}$\n",
    "3. Intepret the following set as a list comprehension: $S_2 = \\{x \\in S_1 \\mid x \\text{ is even}\\}$\n"
   ]
  }
 ],
 "metadata": {
  "colab": {
   "provenance": []
  },
  "kernelspec": {
   "display_name": "Python 3 (ipykernel)",
   "language": "python",
   "name": "python3"
  },
  "language_info": {
   "codemirror_mode": {
    "name": "ipython",
    "version": 3
   },
   "file_extension": ".py",
   "mimetype": "text/x-python",
   "name": "python",
   "nbconvert_exporter": "python",
   "pygments_lexer": "ipython3",
   "version": "3.10.0"
  }
 },
 "nbformat": 4,
 "nbformat_minor": 1
}
