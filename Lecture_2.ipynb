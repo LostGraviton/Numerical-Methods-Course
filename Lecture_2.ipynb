{
 "cells": [
  {
   "cell_type": "markdown",
   "metadata": {},
   "source": [
    "## Exercise 1"
   ]
  },
  {
   "cell_type": "code",
   "execution_count": 2,
   "metadata": {},
   "outputs": [
    {
     "name": "stdout",
     "output_type": "stream",
     "text": [
      "1\n",
      "2\n",
      "4\n",
      "8\n",
      "16\n",
      "32\n",
      "64\n",
      "128\n",
      "256\n",
      "512\n",
      "1024\n",
      "2048\n",
      "4096\n",
      "8192\n"
     ]
    }
   ],
   "source": [
    "i = 0\n",
    "while 2**i < 10000:\n",
    "    print(2**i)\n",
    "    i = i + 1"
   ]
  },
  {
   "cell_type": "markdown",
   "metadata": {
    "id": "KKOxGsyNCtzb"
   },
   "source": [
    "# LEC 2: NumPy (Numerical Python)\n",
    "\n",
    "\n",
    "- Most common package for scientific computing with Python\n",
    "- Its fundamental object is `np.array`, an multidimensional array of numbers\n",
    "- Provides linear algebra, Fourier transform, random number capabilities\n",
    "- Building block for other packages (e.g. SciPy, scikit-learn)\n",
    "- Open source, huge dev community!"
   ]
  },
  {
   "cell_type": "code",
   "execution_count": 3,
   "metadata": {
    "id": "O7LfAr0XCtzi"
   },
   "outputs": [
    {
     "data": {
      "text/plain": [
       "-0.9589242746631385"
      ]
     },
     "execution_count": 3,
     "metadata": {},
     "output_type": "execute_result"
    }
   ],
   "source": [
    "# Quick note on importing\n",
    "import math\n",
    "math.sin(5)"
   ]
  },
  {
   "cell_type": "code",
   "execution_count": 2,
   "metadata": {
    "id": "O7LfAr0XCtzi"
   },
   "outputs": [
    {
     "data": {
      "text/plain": [
       "-0.9589242746631385"
      ]
     },
     "execution_count": 2,
     "metadata": {},
     "output_type": "execute_result"
    }
   ],
   "source": [
    "import math as m\n",
    "m.sin(5)"
   ]
  },
  {
   "cell_type": "code",
   "execution_count": 2,
   "metadata": {},
   "outputs": [],
   "source": [
    "import numpy as np"
   ]
  },
  {
   "cell_type": "markdown",
   "metadata": {
    "id": "8ZwohWXbCtzk"
   },
   "source": [
    "## Array\n",
    "\n",
    "Main object type is `np.array`\n",
    "\n",
    "Many ways to create it,\n",
    "\n",
    "One way is to convert a python list"
   ]
  },
  {
   "cell_type": "code",
   "execution_count": 3,
   "metadata": {
    "id": "JHwcHXP9Ctzl"
   },
   "outputs": [
    {
     "name": "stdout",
     "output_type": "stream",
     "text": [
      "[1, 2, 3]\n"
     ]
    },
    {
     "data": {
      "text/plain": [
       "array([1, 2, 3])"
      ]
     },
     "execution_count": 3,
     "metadata": {},
     "output_type": "execute_result"
    }
   ],
   "source": [
    "python_list = [ 1,2,3 ]\n",
    "print(python_list)\n",
    "np.array(python_list)"
   ]
  },
  {
   "cell_type": "code",
   "execution_count": 4,
   "metadata": {
    "id": "2vQ85Y5nCtzm"
   },
   "outputs": [
    {
     "data": {
      "text/plain": [
       "array([1, 2, 3, 5, 6])"
      ]
     },
     "execution_count": 4,
     "metadata": {},
     "output_type": "execute_result"
    }
   ],
   "source": [
    "arr = np.array([1,2,3, 5, 6])\n",
    "arr"
   ]
  },
  {
   "cell_type": "code",
   "execution_count": 5,
   "metadata": {},
   "outputs": [
    {
     "data": {
      "text/plain": [
       "array([0.73087874, 0.76142338, 0.20573295, 0.99084899, 0.37736725,\n",
       "       0.16554228, 0.85789842, 0.7875271 , 0.25418106, 0.1612428 ,\n",
       "       0.71284205, 0.78641188, 0.81007235, 0.31059417, 0.99748959])"
      ]
     },
     "execution_count": 5,
     "metadata": {},
     "output_type": "execute_result"
    }
   ],
   "source": [
    "arr = np.random.random(15)\n",
    "arr"
   ]
  },
  {
   "cell_type": "markdown",
   "metadata": {
    "id": "U-AzIQeCCtzm"
   },
   "source": [
    "Many times a list comprehension is used to create a list and then converted to a array"
   ]
  },
  {
   "cell_type": "code",
   "execution_count": 8,
   "metadata": {
    "id": "j6BpLONGCtzn"
   },
   "outputs": [
    {
     "data": {
      "text/plain": [
       "array([  4,   8, 512])"
      ]
     },
     "execution_count": 8,
     "metadata": {},
     "output_type": "execute_result"
    }
   ],
   "source": [
    "arr = np.array([ 2**i for i in [2,3,9] ])\n",
    "arr"
   ]
  },
  {
   "cell_type": "code",
   "execution_count": 42,
   "metadata": {
    "id": "XUte57GXCtzn"
   },
   "outputs": [
    {
     "data": {
      "text/plain": [
       "array([  1,   4,  64, 256])"
      ]
     },
     "execution_count": 42,
     "metadata": {},
     "output_type": "execute_result"
    }
   ],
   "source": [
    "arr = np.array([ 2**i for i in range(10) if i != 4 and i%2 == 0 ])\n",
    "arr"
   ]
  },
  {
   "cell_type": "code",
   "execution_count": 12,
   "metadata": {},
   "outputs": [
    {
     "name": "stdout",
     "output_type": "stream",
     "text": [
      "['1' '2' '3' '4' '4' '5']\n",
      "['1' '4.0' 'sita' '3' '4' '4' '5']\n"
     ]
    }
   ],
   "source": [
    "a = np.array([1, 2, 3, 4, 4, 5], str) # the int/float/str in last specifies that everything in integer/float/string inside the array\n",
    "b = np.array([1, 4.0,\"sita\", 3, 4, 4, 5])\n",
    "print(a)\n",
    "print(b)"
   ]
  },
  {
   "cell_type": "code",
   "execution_count": 8,
   "metadata": {},
   "outputs": [
    {
     "name": "stdout",
     "output_type": "stream",
     "text": [
      "[  0.          33.33333333  66.66666667 100.        ]\n",
      "[ 1.          1.77827941  3.16227766  5.62341325 10.        ]\n",
      "[1.         1.18920712 1.41421356 1.68179283 2.        ]\n"
     ]
    }
   ],
   "source": [
    "print(np.linspace(0,100, 4))# NumPy linspace function always returns evenly spaced numbers based on a given interval\n",
    "print(np.logspace(0,1,5)) # same as linspace but gives logrithmic values instead # default base = 10\n",
    "print(np.logspace(0,1,5, base=2))"
   ]
  },
  {
   "cell_type": "code",
   "execution_count": 26,
   "metadata": {},
   "outputs": [
    {
     "name": "stdout",
     "output_type": "stream",
     "text": [
      "[ 1  2  3  4  5  6  7  8  9 10 11 12 13 14 15 16 17 18 19 20 21 22 23 24\n",
      " 25 26 27 28 29 30 31 32 33 34 35 36 37 38 39 40 41 42 43 44 45 46 47 48\n",
      " 49 50 51 52 53 54 55 56 57 58 59 60 61 62 63 64 65 66 67 68 69 70 71 72\n",
      " 73 74 75 76 77 78 79 80 81 82 83 84 85 86 87 88 89 90 91 92 93 94 95 96\n",
      " 97 98 99]\n",
      "[ 1  3  5  7  9 11 13 15 17 19 21 23 25 27 29 31 33 35 37 39 41 43 45 47\n",
      " 49 51 53 55 57 59 61 63 65 67 69 71 73 75 77 79 81 83 85 87 89 91 93 95\n",
      " 97 99]\n",
      "[100  99  98  97  96  95  94  93  92  91  90  89  88  87  86  85  84  83\n",
      "  82  81  80  79  78  77  76  75  74  73  72  71  70  69  68  67  66  65\n",
      "  64  63  62  61  60  59  58  57  56  55  54  53  52  51  50  49  48  47\n",
      "  46  45  44  43  42  41  40  39  38  37  36  35  34  33  32  31  30  29\n",
      "  28  27  26  25  24  23  22  21  20  19  18  17  16  15  14  13  12  11\n",
      "  10   9   8   7   6   5   4   3   2]\n"
     ]
    }
   ],
   "source": [
    "print(np.arange(1,100)) # arange similar to range function but it generates an array instead of list\n",
    "print(np.arange(1,100,2))\n",
    "print(np.arange(100,1,-1))"
   ]
  },
  {
   "cell_type": "markdown",
   "metadata": {},
   "source": [
    "2D Array"
   ]
  },
  {
   "cell_type": "code",
   "execution_count": 20,
   "metadata": {},
   "outputs": [
    {
     "data": {
      "text/plain": [
       "array([[1, 2, 3],\n",
       "       [4, 5, 6]])"
      ]
     },
     "execution_count": 20,
     "metadata": {},
     "output_type": "execute_result"
    }
   ],
   "source": [
    "M = np.array( [ [1,2,3], [4,5,6] ] )\n",
    "M"
   ]
  },
  {
   "cell_type": "code",
   "execution_count": 17,
   "metadata": {},
   "outputs": [
    {
     "data": {
      "text/plain": [
       "2"
      ]
     },
     "execution_count": 17,
     "metadata": {},
     "output_type": "execute_result"
    }
   ],
   "source": [
    "M.ndim"
   ]
  },
  {
   "cell_type": "code",
   "execution_count": 18,
   "metadata": {},
   "outputs": [
    {
     "data": {
      "text/plain": [
       "6"
      ]
     },
     "execution_count": 18,
     "metadata": {},
     "output_type": "execute_result"
    }
   ],
   "source": [
    "M.size"
   ]
  },
  {
   "cell_type": "code",
   "execution_count": 19,
   "metadata": {},
   "outputs": [
    {
     "data": {
      "text/plain": [
       "(2, 3)"
      ]
     },
     "execution_count": 19,
     "metadata": {},
     "output_type": "execute_result"
    }
   ],
   "source": [
    "M.shape"
   ]
  },
  {
   "cell_type": "markdown",
   "metadata": {},
   "source": [
    "3D Array "
   ]
  },
  {
   "cell_type": "markdown",
   "metadata": {},
   "source": [
    " Collection of two $2 \\times 2$ arrays "
   ]
  },
  {
   "cell_type": "code",
   "execution_count": 22,
   "metadata": {},
   "outputs": [
    {
     "data": {
      "text/plain": [
       "array([[[5, 6],\n",
       "        [7, 8]],\n",
       "\n",
       "       [[2, 3],\n",
       "        [9, 0]]])"
      ]
     },
     "execution_count": 22,
     "metadata": {},
     "output_type": "execute_result"
    }
   ],
   "source": [
    "D = np.array( [ [ [5,6], [7,8] ], [ [2,3], [9,0] ]  ] )  \n",
    "D"
   ]
  },
  {
   "cell_type": "code",
   "execution_count": 24,
   "metadata": {},
   "outputs": [
    {
     "data": {
      "text/plain": [
       "3"
      ]
     },
     "execution_count": 24,
     "metadata": {},
     "output_type": "execute_result"
    }
   ],
   "source": [
    "D.ndim"
   ]
  },
  {
   "cell_type": "code",
   "execution_count": 25,
   "metadata": {},
   "outputs": [
    {
     "data": {
      "text/plain": [
       "(2, 2, 2)"
      ]
     },
     "execution_count": 25,
     "metadata": {},
     "output_type": "execute_result"
    }
   ],
   "source": [
    "D.shape"
   ]
  },
  {
   "cell_type": "markdown",
   "metadata": {
    "id": "ER0P2grrCtzo"
   },
   "source": [
    "### Exercise 1\n",
    "Create a numpy array that contain  intergers i  such that  0<i<100 and $2^i$ has the last digit 6"
   ]
  },
  {
   "cell_type": "code",
   "execution_count": 41,
   "metadata": {},
   "outputs": [],
   "source": [
    "a = np.array([ 2**i for i in range(100)])"
   ]
  },
  {
   "cell_type": "code",
   "execution_count": 35,
   "metadata": {
    "id": "35o7H0oFCtzo"
   },
   "outputs": [
    {
     "data": {
      "text/plain": [
       "array([16, 256, 4096, 65536, 1048576, 16777216, 268435456, 4294967296,\n",
       "       68719476736, 1099511627776, 17592186044416, 281474976710656,\n",
       "       4503599627370496, 72057594037927936, 1152921504606846976,\n",
       "       18446744073709551616, 295147905179352825856,\n",
       "       4722366482869645213696, 75557863725914323419136,\n",
       "       1208925819614629174706176, 19342813113834066795298816,\n",
       "       309485009821345068724781056, 4951760157141521099596496896,\n",
       "       79228162514264337593543950336], dtype=object)"
      ]
     },
     "execution_count": 35,
     "metadata": {},
     "output_type": "execute_result"
    }
   ],
   "source": []
  },
  {
   "cell_type": "markdown",
   "metadata": {},
   "source": [
    "### Exercise 2"
   ]
  },
  {
   "cell_type": "markdown",
   "metadata": {
    "id": "EG_vHz2bCtzp"
   },
   "source": [
    "Create a 2D numpy array $A$ such that $A_{ij} = i\\times j$"
   ]
  },
  {
   "cell_type": "code",
   "execution_count": 5,
   "metadata": {},
   "outputs": [
    {
     "name": "stdout",
     "output_type": "stream",
     "text": [
      "Enter no. of rows: 3\n",
      "Enter no. of columns: 3\n"
     ]
    },
    {
     "data": {
      "text/plain": [
       "array([[1, 2, 3],\n",
       "       [2, 4, 6],\n",
       "       [3, 6, 9]])"
      ]
     },
     "execution_count": 5,
     "metadata": {},
     "output_type": "execute_result"
    }
   ],
   "source": [
    "r = int(input(\"Enter no. of rows: \"))\n",
    "c = int(input(\"Enter no. of columns: \"))\n",
    "np.array( [ [ i*j for j in range(1,c+1)] for i in range(1,r+1) ] )"
   ]
  },
  {
   "cell_type": "markdown",
   "metadata": {},
   "source": [
    "## Array Operations"
   ]
  },
  {
   "cell_type": "markdown",
   "metadata": {},
   "source": [
    "Can be done with arrays of same dimensions only."
   ]
  },
  {
   "cell_type": "code",
   "execution_count": 15,
   "metadata": {},
   "outputs": [],
   "source": [
    "a1 = np.array([7,8,9,1])\n",
    "a2 = np.array([3,2,1,8])"
   ]
  },
  {
   "cell_type": "code",
   "execution_count": 14,
   "metadata": {},
   "outputs": [
    {
     "data": {
      "text/plain": [
       "4"
      ]
     },
     "execution_count": 14,
     "metadata": {},
     "output_type": "execute_result"
    }
   ],
   "source": [
    "len(a2)"
   ]
  },
  {
   "cell_type": "code",
   "execution_count": 16,
   "metadata": {},
   "outputs": [
    {
     "data": {
      "text/plain": [
       "25"
      ]
     },
     "execution_count": 16,
     "metadata": {},
     "output_type": "execute_result"
    }
   ],
   "source": [
    "sum(a1)"
   ]
  },
  {
   "cell_type": "code",
   "execution_count": 17,
   "metadata": {},
   "outputs": [
    {
     "name": "stdout",
     "output_type": "stream",
     "text": [
      "[10 10 10  9] [ 4  6  8 -7] [21 16  9  8] [2.33333333 4.         9.         0.125     ] [1 0 0 1] [2 4 9 0] [14 16 18  2] [0.33333333 0.5        1.         0.125     ]\n"
     ]
    }
   ],
   "source": [
    "print(a1+a2, a1-a2, a1*a2, a1/a2, a1%a2, a1//a2, 2*a1, 1/a2)"
   ]
  },
  {
   "cell_type": "markdown",
   "metadata": {},
   "source": [
    "### Vectorization"
   ]
  },
  {
   "cell_type": "code",
   "execution_count": 25,
   "metadata": {},
   "outputs": [
    {
     "name": "stdout",
     "output_type": "stream",
     "text": [
      "20.085536923187668\n"
     ]
    }
   ],
   "source": [
    "x1 = np.linspace(-5,5,100)\n",
    "x2 = np.linspace(0,1,100)\n",
    "\n",
    "print(np.exp(3))\n",
    "\n",
    "y1 = np.exp(-x1**2)\n",
    "\n",
    "y2 = np.sin(10*x2)"
   ]
  },
  {
   "cell_type": "code",
   "execution_count": 27,
   "metadata": {},
   "outputs": [
    {
     "data": {
      "text/plain": [
       "[<matplotlib.lines.Line2D at 0x21e9228f280>]"
      ]
     },
     "execution_count": 27,
     "metadata": {},
     "output_type": "execute_result"
    },
    {
     "data": {
      "image/png": "[encoded data removed]",
      "text/plain": [
       "<Figure size 432x288 with 1 Axes>"
      ]
     },
     "metadata": {
      "needs_background": "light"
     },
     "output_type": "display_data"
    }
   ],
   "source": [
    "import matplotlib.pyplot as p\n",
    "p.plot(x1,y1, color = 'r')"
   ]
  },
  {
   "cell_type": "code",
   "execution_count": 26,
   "metadata": {
    "scrolled": true
   },
   "outputs": [
    {
     "data": {
      "text/plain": [
       "[<matplotlib.lines.Line2D at 0x21e92227250>]"
      ]
     },
     "execution_count": 26,
     "metadata": {},
     "output_type": "execute_result"
    },
    {
     "data": {
      "image/png": "[encoded data removed]",
      "text/plain": [
       "<Figure size 432x288 with 1 Axes>"
      ]
     },
     "metadata": {
      "needs_background": "light"
     },
     "output_type": "display_data"
    }
   ],
   "source": [
    "plt.plot(x2,y2, color = 'g')"
   ]
  },
  {
   "cell_type": "markdown",
   "metadata": {},
   "source": [
    "#### Lambda Function\n",
    "A lambda function is a small anonymous function. It can take any number of arguments, but can have only one expression.\n",
    "\n",
    "Syntax:\n",
    "lambda arguments : expression"
   ]
  },
  {
   "cell_type": "code",
   "execution_count": 38,
   "metadata": {},
   "outputs": [
    {
     "data": {
      "text/plain": [
       "19"
      ]
     },
     "execution_count": 38,
     "metadata": {},
     "output_type": "execute_result"
    }
   ],
   "source": [
    "x = lambda a : a + 10\n",
    "x(9)"
   ]
  },
  {
   "cell_type": "code",
   "execution_count": 40,
   "metadata": {},
   "outputs": [
    {
     "data": {
      "text/plain": [
       "6"
      ]
     },
     "execution_count": 40,
     "metadata": {},
     "output_type": "execute_result"
    }
   ],
   "source": [
    "y = lambda a,b,c : a*b*c\n",
    "y(1,2,3)"
   ]
  },
  {
   "cell_type": "markdown",
   "metadata": {},
   "source": [
    "Exercise 1 using lambda function"
   ]
  },
  {
   "cell_type": "code",
   "execution_count": 53,
   "metadata": {},
   "outputs": [
    {
     "data": {
      "text/plain": [
       "array(['16', '256', '4096', '65536', '1048576', '16777216', '268435456',\n",
       "       '4294967296', '68719476736', '1099511627776', '17592186044416',\n",
       "       '281474976710656', '4503599627370496', '72057594037927936',\n",
       "       '1152921504606846976', '18446744073709551616',\n",
       "       '295147905179352825856', '4722366482869645213696',\n",
       "       '75557863725914323419136', '1208925819614629174706176',\n",
       "       '19342813113834066795298816', '309485009821345068724781056',\n",
       "       '4951760157141521099596496896', '79228162514264337593543950336'],\n",
       "      dtype='<U30')"
      ]
     },
     "execution_count": 53,
     "metadata": {},
     "output_type": "execute_result"
    }
   ],
   "source": [
    "a = np.array([2**i for i in range(100)], str)\n",
    "b = np.vectorize(lambda s: s[-1])(a) == '6'\n",
    "a[b]"
   ]
  },
  {
   "cell_type": "code",
   "execution_count": 57,
   "metadata": {},
   "outputs": [
    {
     "data": {
      "text/plain": [
       "array(['syam', 'sita', 'sagar', 'sima'], dtype='<U5')"
      ]
     },
     "execution_count": 57,
     "metadata": {},
     "output_type": "execute_result"
    }
   ],
   "source": [
    "a = np.array(['ram', 'syam', 'sita', 'gita', 'sagar', 'sima'])\n",
    "b = np.vectorize(lambda s: s[0])(a) == 's'\n",
    "a[b]"
   ]
  }
 ],
 "metadata": {
  "colab": {
   "provenance": []
  },
  "kernelspec": {
   "display_name": "Python 3 (ipykernel)",
   "language": "python",
   "name": "python3"
  },
  "language_info": {
   "codemirror_mode": {
    "name": "ipython",
    "version": 3
   },
   "file_extension": ".py",
   "mimetype": "text/x-python",
   "name": "python",
   "nbconvert_exporter": "python",
   "pygments_lexer": "ipython3",
   "version": "3.10.0"
  }
 },
 "nbformat": 4,
 "nbformat_minor": 1
}
