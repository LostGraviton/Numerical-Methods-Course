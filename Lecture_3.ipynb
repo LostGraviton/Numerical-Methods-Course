{
 "cells": [
  {
   "cell_type": "markdown",
   "id": "19947c60",
   "metadata": {},
   "source": [
    "# LEC 3: Revisiting Lists and NumPy Continued"
   ]
  },
  {
   "cell_type": "markdown",
   "id": "7eddd999",
   "metadata": {},
   "source": [
    "## Back to Lists"
   ]
  },
  {
   "cell_type": "code",
   "execution_count": 2,
   "id": "852d14d0",
   "metadata": {},
   "outputs": [],
   "source": [
    "a = [ 21, 5, 6.0, 7, 90, 20, 23, 43, 100, 67, 9.5 ]"
   ]
  },
  {
   "cell_type": "markdown",
   "id": "2879feaf",
   "metadata": {},
   "source": [
    "### Slicing"
   ]
  },
  {
   "cell_type": "code",
   "execution_count": 12,
   "id": "2869856c",
   "metadata": {},
   "outputs": [
    {
     "data": {
      "text/plain": [
       "[5, 6.0, 7, 90, 20, 23]"
      ]
     },
     "execution_count": 12,
     "metadata": {},
     "output_type": "execute_result"
    }
   ],
   "source": [
    "a[1:7]    # a[start:stop:steps]"
   ]
  },
  {
   "cell_type": "code",
   "execution_count": 13,
   "id": "6c6a26c6",
   "metadata": {},
   "outputs": [
    {
     "data": {
      "text/plain": [
       "[5, 7, 20]"
      ]
     },
     "execution_count": 13,
     "metadata": {},
     "output_type": "execute_result"
    }
   ],
   "source": [
    "a[1:7:2]"
   ]
  },
  {
   "cell_type": "code",
   "execution_count": 14,
   "id": "7ebec75b",
   "metadata": {},
   "outputs": [
    {
     "data": {
      "text/plain": [
       "[21, 5, 6.0, 7, 90, 20, 23]"
      ]
     },
     "execution_count": 14,
     "metadata": {},
     "output_type": "execute_result"
    }
   ],
   "source": [
    "a[:7]"
   ]
  },
  {
   "cell_type": "code",
   "execution_count": 15,
   "id": "09d493b8",
   "metadata": {},
   "outputs": [
    {
     "data": {
      "text/plain": [
       "[6.0, 7, 90, 20, 23, 43, 100, 67, 9.5]"
      ]
     },
     "execution_count": 15,
     "metadata": {},
     "output_type": "execute_result"
    }
   ],
   "source": [
    "a[2:]"
   ]
  },
  {
   "cell_type": "code",
   "execution_count": 33,
   "id": "ffb10991",
   "metadata": {},
   "outputs": [
    {
     "data": {
      "text/plain": [
       "[20, 23, 43, 100, 67]"
      ]
     },
     "execution_count": 33,
     "metadata": {},
     "output_type": "execute_result"
    }
   ],
   "source": [
    "a[5:-1]"
   ]
  },
  {
   "cell_type": "code",
   "execution_count": 34,
   "id": "e73b131b",
   "metadata": {},
   "outputs": [
    {
     "data": {
      "text/plain": [
       "[]"
      ]
     },
     "execution_count": 34,
     "metadata": {},
     "output_type": "execute_result"
    }
   ],
   "source": [
    "a[-1:-3]"
   ]
  },
  {
   "cell_type": "code",
   "execution_count": 35,
   "id": "552c71a7",
   "metadata": {},
   "outputs": [
    {
     "data": {
      "text/plain": [
       "[]"
      ]
     },
     "execution_count": 35,
     "metadata": {},
     "output_type": "execute_result"
    }
   ],
   "source": [
    "a[-1:4]"
   ]
  },
  {
   "cell_type": "code",
   "execution_count": 22,
   "id": "71a6f776",
   "metadata": {},
   "outputs": [
    {
     "data": {
      "text/plain": [
       "[21, 5, 6.0, 7, 90, 20, 23, 43, 100, 67]"
      ]
     },
     "execution_count": 22,
     "metadata": {},
     "output_type": "execute_result"
    }
   ],
   "source": [
    "a[:-1]"
   ]
  },
  {
   "cell_type": "code",
   "execution_count": 23,
   "id": "ccc3f00f",
   "metadata": {},
   "outputs": [
    {
     "data": {
      "text/plain": [
       "[9.5, 67, 100, 43, 23, 20, 90, 7, 6.0, 5, 21]"
      ]
     },
     "execution_count": 23,
     "metadata": {},
     "output_type": "execute_result"
    }
   ],
   "source": [
    "a[::-1]"
   ]
  },
  {
   "cell_type": "code",
   "execution_count": 3,
   "id": "33602301",
   "metadata": {},
   "outputs": [
    {
     "data": {
      "text/plain": [
       "[21, 5, 6.0, 7, 90, 20, 23, 43, 100, 67, 9.5]"
      ]
     },
     "execution_count": 3,
     "metadata": {},
     "output_type": "execute_result"
    }
   ],
   "source": [
    "a[:]"
   ]
  },
  {
   "cell_type": "code",
   "execution_count": 4,
   "id": "a6cf8b4b",
   "metadata": {},
   "outputs": [
    {
     "data": {
      "text/plain": [
       "[21, 5, 6.0, 7, 90, 20, 23, 43, 100, 67, 9.5]"
      ]
     },
     "execution_count": 4,
     "metadata": {},
     "output_type": "execute_result"
    }
   ],
   "source": [
    "a[::]"
   ]
  },
  {
   "cell_type": "markdown",
   "id": "bb8997b1",
   "metadata": {},
   "source": [
    "### Few applications"
   ]
  },
  {
   "cell_type": "code",
   "execution_count": 17,
   "id": "09467259",
   "metadata": {},
   "outputs": [
    {
     "data": {
      "text/plain": [
       "11"
      ]
     },
     "execution_count": 17,
     "metadata": {},
     "output_type": "execute_result"
    }
   ],
   "source": [
    "len(a)"
   ]
  },
  {
   "cell_type": "code",
   "execution_count": 18,
   "id": "6143d75f",
   "metadata": {},
   "outputs": [
    {
     "data": {
      "text/plain": [
       "391.5"
      ]
     },
     "execution_count": 18,
     "metadata": {},
     "output_type": "execute_result"
    }
   ],
   "source": [
    "sum(a)"
   ]
  },
  {
   "cell_type": "code",
   "execution_count": 20,
   "id": "7c9810dd",
   "metadata": {},
   "outputs": [
    {
     "data": {
      "text/plain": [
       "35.59090909090909"
      ]
     },
     "execution_count": 20,
     "metadata": {},
     "output_type": "execute_result"
    }
   ],
   "source": [
    "mean = sum(a)/len(a)\n",
    "mean"
   ]
  },
  {
   "cell_type": "code",
   "execution_count": 21,
   "id": "0c3f3aef",
   "metadata": {},
   "outputs": [
    {
     "data": {
      "text/plain": [
       "100"
      ]
     },
     "execution_count": 21,
     "metadata": {},
     "output_type": "execute_result"
    }
   ],
   "source": [
    "max(a)"
   ]
  },
  {
   "cell_type": "code",
   "execution_count": 36,
   "id": "0adcaf87",
   "metadata": {},
   "outputs": [
    {
     "data": {
      "text/plain": [
       "8"
      ]
     },
     "execution_count": 36,
     "metadata": {},
     "output_type": "execute_result"
    }
   ],
   "source": [
    "a.index(max(a))"
   ]
  },
  {
   "cell_type": "code",
   "execution_count": 22,
   "id": "639df8d1",
   "metadata": {},
   "outputs": [
    {
     "data": {
      "text/plain": [
       "5"
      ]
     },
     "execution_count": 22,
     "metadata": {},
     "output_type": "execute_result"
    }
   ],
   "source": [
    "min(a)"
   ]
  },
  {
   "cell_type": "code",
   "execution_count": 23,
   "id": "5b013e7a",
   "metadata": {},
   "outputs": [
    {
     "data": {
      "text/plain": [
       "[5, 6.0, 7, 9.5, 20, 21, 23, 43, 67, 90, 100]"
      ]
     },
     "execution_count": 23,
     "metadata": {},
     "output_type": "execute_result"
    }
   ],
   "source": [
    "sorted(a)   # it does not change the original list"
   ]
  },
  {
   "cell_type": "code",
   "execution_count": 24,
   "id": "2b98dc4a",
   "metadata": {},
   "outputs": [
    {
     "data": {
      "text/plain": [
       "[100, 90, 67, 43, 23, 21, 20, 9.5, 7, 6.0, 5]"
      ]
     },
     "execution_count": 24,
     "metadata": {},
     "output_type": "execute_result"
    }
   ],
   "source": [
    "sorted(a, reverse = True)"
   ]
  },
  {
   "cell_type": "code",
   "execution_count": 30,
   "id": "dcb51c46",
   "metadata": {},
   "outputs": [
    {
     "data": {
      "text/plain": [
       "[5, 6.0, 7, 9.5, 20, 21, 23, 43, 67, 90, 100]"
      ]
     },
     "execution_count": 30,
     "metadata": {},
     "output_type": "execute_result"
    }
   ],
   "source": [
    "a.sort()  # it changes the original list\n",
    "a"
   ]
  },
  {
   "cell_type": "code",
   "execution_count": 32,
   "id": "47707698",
   "metadata": {},
   "outputs": [
    {
     "data": {
      "text/plain": [
       "[100, 90, 67, 43, 23, 21, 20, 9.5, 7, 6.0, 5]"
      ]
     },
     "execution_count": 32,
     "metadata": {},
     "output_type": "execute_result"
    }
   ],
   "source": [
    "a.sort(reverse = True)\n",
    "a"
   ]
  },
  {
   "cell_type": "code",
   "execution_count": 27,
   "id": "9afda536",
   "metadata": {},
   "outputs": [
    {
     "data": {
      "text/plain": [
       "['abhi', 'biki', 'jaya', 'zakir']"
      ]
     },
     "execution_count": 27,
     "metadata": {},
     "output_type": "execute_result"
    }
   ],
   "source": [
    "b = ['zakir','abhi','biki','jaya']\n",
    "sorted(b)"
   ]
  },
  {
   "cell_type": "code",
   "execution_count": 37,
   "id": "8ce295bb",
   "metadata": {},
   "outputs": [
    {
     "data": {
      "text/plain": [
       "3"
      ]
     },
     "execution_count": 37,
     "metadata": {},
     "output_type": "execute_result"
    }
   ],
   "source": [
    "c = [2,6,8,6,6,8,8,9,0,1,4]\n",
    "c.count(6)"
   ]
  },
  {
   "cell_type": "code",
   "execution_count": 5,
   "id": "274dc74e",
   "metadata": {},
   "outputs": [],
   "source": [
    "a = [ 21, 5, 6.0, 7, 90, 20, 23, 43, 100, 67, 9.5 ]\n",
    "b = [ 54, 7, 78, 89.0, 0.1, 32, 12, 89.9, 32, 6, 2 ]"
   ]
  },
  {
   "cell_type": "code",
   "execution_count": 6,
   "id": "678a67ca",
   "metadata": {
    "scrolled": true
   },
   "outputs": [
    {
     "name": "stdout",
     "output_type": "stream",
     "text": [
      "[21, 5, 6.0, 7, 90, 20, 23, 43, 100, 67, 9.5, 54, 7, 78, 89.0, 0.1, 32, 12, 89.9, 32, 6, 2]\n"
     ]
    }
   ],
   "source": [
    "print(a+b)"
   ]
  },
  {
   "cell_type": "code",
   "execution_count": 7,
   "id": "9ed63214",
   "metadata": {},
   "outputs": [
    {
     "name": "stdout",
     "output_type": "stream",
     "text": [
      "[21, 5, 6.0, 7, 90, 20, 23, 43, 100, 67, 9.5, 21, 5, 6.0, 7, 90, 20, 23, 43, 100, 67, 9.5]\n"
     ]
    }
   ],
   "source": [
    "print(2*a)"
   ]
  },
  {
   "cell_type": "markdown",
   "id": "6d896d62",
   "metadata": {},
   "source": [
    "## Back to NumPy"
   ]
  },
  {
   "cell_type": "code",
   "execution_count": 9,
   "id": "f48f2ea3",
   "metadata": {},
   "outputs": [],
   "source": [
    "import numpy as np"
   ]
  },
  {
   "cell_type": "markdown",
   "id": "64e0ba12",
   "metadata": {},
   "source": [
    "### Iterator on array"
   ]
  },
  {
   "cell_type": "code",
   "execution_count": 4,
   "id": "08ea3166",
   "metadata": {},
   "outputs": [],
   "source": [
    "a = np.array([2,5,7,9])"
   ]
  },
  {
   "cell_type": "code",
   "execution_count": 67,
   "id": "cd2a18b7",
   "metadata": {},
   "outputs": [
    {
     "name": "stdout",
     "output_type": "stream",
     "text": [
      "4\n",
      "25\n",
      "49\n",
      "81\n"
     ]
    }
   ],
   "source": [
    "for i in a:\n",
    "    print(i**2)"
   ]
  },
  {
   "cell_type": "code",
   "execution_count": 66,
   "id": "8d51647f",
   "metadata": {},
   "outputs": [
    {
     "data": {
      "text/plain": [
       "array([ 4, 25, 49, 81])"
      ]
     },
     "execution_count": 66,
     "metadata": {},
     "output_type": "execute_result"
    }
   ],
   "source": [
    "a*a"
   ]
  },
  {
   "cell_type": "code",
   "execution_count": 24,
   "id": "4ce38080",
   "metadata": {},
   "outputs": [
    {
     "name": "stdout",
     "output_type": "stream",
     "text": [
      "[1 2 3]\n",
      "[4 5 6]\n"
     ]
    }
   ],
   "source": [
    "# iterating over 2d array\n",
    "\n",
    "a = np.array([[1,2,3], [4,5,6]])\n",
    "\n",
    "for i in a:\n",
    "    print(i)"
   ]
  },
  {
   "cell_type": "code",
   "execution_count": 69,
   "id": "469a78f6",
   "metadata": {},
   "outputs": [
    {
     "name": "stdout",
     "output_type": "stream",
     "text": [
      "1\n",
      "4\n",
      "2\n",
      "5\n",
      "3\n",
      "6\n"
     ]
    }
   ],
   "source": [
    "for i in np.nditer(a, order = 'F'):\n",
    "    print(i)"
   ]
  },
  {
   "cell_type": "code",
   "execution_count": 70,
   "id": "1b50e30d",
   "metadata": {},
   "outputs": [
    {
     "name": "stdout",
     "output_type": "stream",
     "text": [
      "1\n",
      "2\n",
      "3\n",
      "4\n",
      "5\n",
      "6\n"
     ]
    }
   ],
   "source": [
    "for i in np.nditer(a, order = 'C'):\n",
    "    print(i)"
   ]
  },
  {
   "cell_type": "code",
   "execution_count": 27,
   "id": "87c1cdee",
   "metadata": {},
   "outputs": [
    {
     "name": "stdout",
     "output_type": "stream",
     "text": [
      "1 4 9 16 25 36 "
     ]
    }
   ],
   "source": [
    "for i in np.nditer(a, order = 'C'):\n",
    "    print(i**2,end = ' ')"
   ]
  },
  {
   "cell_type": "markdown",
   "id": "a72f8e13",
   "metadata": {},
   "source": [
    "### Indexing of arrays"
   ]
  },
  {
   "cell_type": "code",
   "execution_count": 50,
   "id": "1fa8abd8",
   "metadata": {},
   "outputs": [
    {
     "name": "stdout",
     "output_type": "stream",
     "text": [
      "2 0 5\n"
     ]
    }
   ],
   "source": [
    "a = np.array([2,5,8,11,14,32,67,0])\n",
    "print(a[0], a[-1], a[1])"
   ]
  },
  {
   "cell_type": "code",
   "execution_count": 10,
   "id": "7d2dc624",
   "metadata": {},
   "outputs": [
    {
     "name": "stdout",
     "output_type": "stream",
     "text": [
      "[1 2 3 4] [4 5 6 9] [0 0 9 3] [4 0 1 6]\n"
     ]
    }
   ],
   "source": [
    "b = np.array([[1,2,3,4], [4,5,6,9], [3,6,9,0], [4,0,1,6],[0,0,9,3]])\n",
    "print(b[0],b[1],b[-1],b[-2])"
   ]
  },
  {
   "cell_type": "markdown",
   "id": "4827b964",
   "metadata": {},
   "source": [
    "### Slicing of Arrays"
   ]
  },
  {
   "cell_type": "code",
   "execution_count": 13,
   "id": "11b518fd",
   "metadata": {},
   "outputs": [
    {
     "data": {
      "text/plain": [
       "[21, 5, 6.0]"
      ]
     },
     "execution_count": 13,
     "metadata": {},
     "output_type": "execute_result"
    }
   ],
   "source": [
    "a[0:3]   # same as lists"
   ]
  },
  {
   "cell_type": "code",
   "execution_count": 12,
   "id": "7a5d2656",
   "metadata": {},
   "outputs": [
    {
     "data": {
      "text/plain": [
       "[9.5, 67, 100, 43, 23, 20, 90, 7, 6.0, 5, 21]"
      ]
     },
     "execution_count": 12,
     "metadata": {},
     "output_type": "execute_result"
    }
   ],
   "source": [
    "a[::-1]"
   ]
  },
  {
   "cell_type": "markdown",
   "id": "8b9236f4",
   "metadata": {},
   "source": [
    "#### Slicing 2D arrays"
   ]
  },
  {
   "cell_type": "code",
   "execution_count": 14,
   "id": "34b65094",
   "metadata": {},
   "outputs": [
    {
     "data": {
      "text/plain": [
       "array([[1, 2, 3, 4],\n",
       "       [4, 5, 6, 9],\n",
       "       [3, 6, 9, 0],\n",
       "       [4, 0, 1, 6],\n",
       "       [0, 0, 9, 3]])"
      ]
     },
     "execution_count": 14,
     "metadata": {},
     "output_type": "execute_result"
    }
   ],
   "source": [
    "b[:]  "
   ]
  },
  {
   "cell_type": "code",
   "execution_count": 15,
   "id": "db16677d",
   "metadata": {},
   "outputs": [
    {
     "data": {
      "text/plain": [
       "array([[1, 2, 3, 4],\n",
       "       [4, 5, 6, 9],\n",
       "       [3, 6, 9, 0]])"
      ]
     },
     "execution_count": 15,
     "metadata": {},
     "output_type": "execute_result"
    }
   ],
   "source": [
    "b[:3]"
   ]
  },
  {
   "cell_type": "code",
   "execution_count": 16,
   "id": "8332f638",
   "metadata": {},
   "outputs": [
    {
     "data": {
      "text/plain": [
       "array([[1, 2, 3, 4],\n",
       "       [3, 6, 9, 0],\n",
       "       [0, 0, 9, 3]])"
      ]
     },
     "execution_count": 16,
     "metadata": {},
     "output_type": "execute_result"
    }
   ],
   "source": [
    "b[::2]"
   ]
  },
  {
   "cell_type": "code",
   "execution_count": 17,
   "id": "fff93988",
   "metadata": {},
   "outputs": [
    {
     "data": {
      "text/plain": [
       "array([[1, 2, 3, 4],\n",
       "       [4, 5, 6, 9],\n",
       "       [3, 6, 9, 0],\n",
       "       [4, 0, 1, 6]])"
      ]
     },
     "execution_count": 17,
     "metadata": {},
     "output_type": "execute_result"
    }
   ],
   "source": [
    "b[:-1]"
   ]
  },
  {
   "cell_type": "markdown",
   "id": "7e3f8696",
   "metadata": {},
   "source": [
    "##### Column slicing"
   ]
  },
  {
   "cell_type": "code",
   "execution_count": 63,
   "id": "e6aebdf7",
   "metadata": {},
   "outputs": [
    {
     "data": {
      "text/plain": [
       "array([[1, 2, 3, 4],\n",
       "       [4, 5, 6, 9],\n",
       "       [3, 6, 9, 0],\n",
       "       [4, 0, 1, 6],\n",
       "       [0, 0, 9, 3]])"
      ]
     },
     "execution_count": 63,
     "metadata": {},
     "output_type": "execute_result"
    }
   ],
   "source": [
    "b[:]"
   ]
  },
  {
   "cell_type": "code",
   "execution_count": 64,
   "id": "74d3309d",
   "metadata": {},
   "outputs": [
    {
     "data": {
      "text/plain": [
       "array([1, 4, 3, 4, 0])"
      ]
     },
     "execution_count": 64,
     "metadata": {},
     "output_type": "execute_result"
    }
   ],
   "source": [
    "b[ : , 0]"
   ]
  },
  {
   "cell_type": "code",
   "execution_count": 66,
   "id": "8725fc9c",
   "metadata": {},
   "outputs": [
    {
     "data": {
      "text/plain": [
       "array([4, 9, 0, 6, 3])"
      ]
     },
     "execution_count": 66,
     "metadata": {},
     "output_type": "execute_result"
    }
   ],
   "source": [
    "b[:,-1]"
   ]
  },
  {
   "cell_type": "markdown",
   "id": "8c3fe563",
   "metadata": {},
   "source": [
    "*General Structure: A[: : , : :]*"
   ]
  },
  {
   "cell_type": "code",
   "execution_count": 67,
   "id": "0fcea03e",
   "metadata": {},
   "outputs": [
    {
     "data": {
      "text/plain": [
       "array([[2, 3],\n",
       "       [5, 6],\n",
       "       [6, 9],\n",
       "       [0, 1],\n",
       "       [0, 9]])"
      ]
     },
     "execution_count": 67,
     "metadata": {},
     "output_type": "execute_result"
    }
   ],
   "source": [
    "b[:, 1:3]"
   ]
  },
  {
   "cell_type": "code",
   "execution_count": 71,
   "id": "5bea2e07",
   "metadata": {},
   "outputs": [
    {
     "data": {
      "text/plain": [
       "array([[6, 9],\n",
       "       [0, 1]])"
      ]
     },
     "execution_count": 71,
     "metadata": {},
     "output_type": "execute_result"
    }
   ],
   "source": [
    "b[2:4,1:3]"
   ]
  },
  {
   "cell_type": "markdown",
   "id": "839ba53c",
   "metadata": {},
   "source": [
    "*Slicing by conditional statement*"
   ]
  },
  {
   "cell_type": "code",
   "execution_count": 73,
   "id": "921644cf",
   "metadata": {},
   "outputs": [
    {
     "data": {
      "text/plain": [
       "array([4, 4, 5, 6, 9, 6, 9, 4, 6, 9])"
      ]
     },
     "execution_count": 73,
     "metadata": {},
     "output_type": "execute_result"
    }
   ],
   "source": [
    "b[b>3]  #picks elements, returns an 1D array"
   ]
  },
  {
   "cell_type": "markdown",
   "id": "53547666",
   "metadata": {},
   "source": [
    "### Swap elements"
   ]
  },
  {
   "cell_type": "code",
   "execution_count": 86,
   "id": "688023b0",
   "metadata": {},
   "outputs": [
    {
     "data": {
      "text/plain": [
       "array([[1, 2, 3, 4],\n",
       "       [4, 5, 6, 9],\n",
       "       [3, 6, 9, 0],\n",
       "       [4, 0, 1, 6],\n",
       "       [0, 0, 9, 3]])"
      ]
     },
     "execution_count": 86,
     "metadata": {},
     "output_type": "execute_result"
    }
   ],
   "source": [
    "b"
   ]
  },
  {
   "cell_type": "code",
   "execution_count": 87,
   "id": "3617c566",
   "metadata": {},
   "outputs": [
    {
     "data": {
      "text/plain": [
       "array([[1, 2, 3, 4],\n",
       "       [3, 6, 9, 0],\n",
       "       [4, 5, 6, 9],\n",
       "       [4, 0, 1, 6],\n",
       "       [0, 0, 9, 3]])"
      ]
     },
     "execution_count": 87,
     "metadata": {},
     "output_type": "execute_result"
    }
   ],
   "source": [
    "b[[1,2]] = b[[2,1]]\n",
    "b"
   ]
  },
  {
   "cell_type": "markdown",
   "id": "4bbaebbf",
   "metadata": {},
   "source": [
    "### Reshape and flatten"
   ]
  },
  {
   "cell_type": "code",
   "execution_count": 88,
   "id": "aba9da39",
   "metadata": {},
   "outputs": [
    {
     "data": {
      "text/plain": [
       "(5, 4)"
      ]
     },
     "execution_count": 88,
     "metadata": {},
     "output_type": "execute_result"
    }
   ],
   "source": [
    "b.shape"
   ]
  },
  {
   "cell_type": "code",
   "execution_count": 94,
   "id": "0fc2bf5d",
   "metadata": {},
   "outputs": [
    {
     "data": {
      "text/plain": [
       "array([[1, 2, 3, 4, 3],\n",
       "       [6, 9, 0, 4, 5],\n",
       "       [6, 9, 4, 0, 1],\n",
       "       [6, 0, 0, 9, 3]])"
      ]
     },
     "execution_count": 94,
     "metadata": {},
     "output_type": "execute_result"
    }
   ],
   "source": [
    "c = b.reshape(4,5)\n",
    "c"
   ]
  },
  {
   "cell_type": "code",
   "execution_count": 95,
   "id": "099db065",
   "metadata": {},
   "outputs": [
    {
     "data": {
      "text/plain": [
       "array([ 2,  5,  8, 11, 14, 32, 67,  0])"
      ]
     },
     "execution_count": 95,
     "metadata": {},
     "output_type": "execute_result"
    }
   ],
   "source": [
    "a"
   ]
  },
  {
   "cell_type": "code",
   "execution_count": 98,
   "id": "217d2006",
   "metadata": {},
   "outputs": [
    {
     "data": {
      "text/plain": [
       "array([[ 2,  5,  8, 11],\n",
       "       [14, 32, 67,  0]])"
      ]
     },
     "execution_count": 98,
     "metadata": {},
     "output_type": "execute_result"
    }
   ],
   "source": [
    "d = a.reshape(2,4)\n",
    "d"
   ]
  },
  {
   "cell_type": "code",
   "execution_count": 103,
   "id": "7c2365b1",
   "metadata": {},
   "outputs": [
    {
     "data": {
      "text/plain": [
       "array([1, 2, 3, 4, 3, 6, 9, 0, 4, 5, 6, 9, 4, 0, 1, 6, 0, 0, 9, 3])"
      ]
     },
     "execution_count": 103,
     "metadata": {},
     "output_type": "execute_result"
    }
   ],
   "source": [
    "e = b.flatten()\n",
    "e"
   ]
  },
  {
   "cell_type": "markdown",
   "id": "98aed52c",
   "metadata": {},
   "source": [
    "### Check elements"
   ]
  },
  {
   "cell_type": "code",
   "execution_count": 106,
   "id": "c2aafef6",
   "metadata": {},
   "outputs": [
    {
     "data": {
      "text/plain": [
       "array([[1, 2, 3, 4],\n",
       "       [3, 6, 9, 0],\n",
       "       [4, 5, 6, 9],\n",
       "       [4, 0, 1, 6],\n",
       "       [0, 0, 9, 3]])"
      ]
     },
     "execution_count": 106,
     "metadata": {},
     "output_type": "execute_result"
    }
   ],
   "source": [
    "b"
   ]
  },
  {
   "cell_type": "code",
   "execution_count": 105,
   "id": "d77f0471",
   "metadata": {},
   "outputs": [
    {
     "data": {
      "text/plain": [
       "array([False, False,  True, False])"
      ]
     },
     "execution_count": 105,
     "metadata": {},
     "output_type": "execute_result"
    }
   ],
   "source": [
    "np.all(b,0) # along axis = 0 (column)"
   ]
  },
  {
   "cell_type": "code",
   "execution_count": 108,
   "id": "722d73a4",
   "metadata": {},
   "outputs": [
    {
     "data": {
      "text/plain": [
       "array([ True, False,  True, False, False])"
      ]
     },
     "execution_count": 108,
     "metadata": {},
     "output_type": "execute_result"
    }
   ],
   "source": [
    "np.all(b,1) # along axis = 1 (rows)"
   ]
  },
  {
   "cell_type": "markdown",
   "id": "bf7574fb",
   "metadata": {},
   "source": [
    "### Where is the element"
   ]
  },
  {
   "cell_type": "code",
   "execution_count": 109,
   "id": "da897c56",
   "metadata": {},
   "outputs": [
    {
     "data": {
      "text/plain": [
       "(array([1, 3, 4, 4], dtype=int64), array([3, 1, 0, 1], dtype=int64))"
      ]
     },
     "execution_count": 109,
     "metadata": {},
     "output_type": "execute_result"
    }
   ],
   "source": [
    "np.where(b==0)  # 1st array row index and 2nd array column index"
   ]
  },
  {
   "cell_type": "code",
   "execution_count": 110,
   "id": "097ad6f3",
   "metadata": {},
   "outputs": [
    {
     "data": {
      "text/plain": [
       "array([ 2,  5,  8, 11, 14, 32, 67,  0])"
      ]
     },
     "execution_count": 110,
     "metadata": {},
     "output_type": "execute_result"
    }
   ],
   "source": [
    "a"
   ]
  },
  {
   "cell_type": "code",
   "execution_count": 112,
   "id": "038f1124",
   "metadata": {},
   "outputs": [
    {
     "data": {
      "text/plain": [
       "(array([3], dtype=int64),)"
      ]
     },
     "execution_count": 112,
     "metadata": {},
     "output_type": "execute_result"
    }
   ],
   "source": [
    "np.where(a==11)"
   ]
  },
  {
   "cell_type": "code",
   "execution_count": 20,
   "id": "2af30698",
   "metadata": {
    "scrolled": true
   },
   "outputs": [
    {
     "data": {
      "text/plain": [
       "array([[0.18174498, 0.34301389, 0.39618412],\n",
       "       [0.76480619, 0.21752336, 0.30778674],\n",
       "       [0.53606091, 0.21044092, 0.61961055]])"
      ]
     },
     "execution_count": 20,
     "metadata": {},
     "output_type": "execute_result"
    }
   ],
   "source": [
    "r = np.random.random(size = (3,3))\n",
    "r"
   ]
  },
  {
   "cell_type": "code",
   "execution_count": 22,
   "id": "467577ed",
   "metadata": {},
   "outputs": [
    {
     "data": {
      "text/plain": [
       "array([[0.        , 0.        , 0.        ],\n",
       "       [0.76480619, 0.        , 0.        ],\n",
       "       [0.53606091, 0.        , 0.61961055]])"
      ]
     },
     "execution_count": 22,
     "metadata": {},
     "output_type": "execute_result"
    }
   ],
   "source": [
    "np.where(r<0.5,0,r)"
   ]
  },
  {
   "cell_type": "markdown",
   "id": "60bd6d1b",
   "metadata": {},
   "source": [
    "### Insert and delete elements"
   ]
  },
  {
   "cell_type": "code",
   "execution_count": 118,
   "id": "7105195f",
   "metadata": {},
   "outputs": [
    {
     "data": {
      "text/plain": [
       "array([ 2,  5,  8, 11, 14, 32, 67,  0])"
      ]
     },
     "execution_count": 118,
     "metadata": {},
     "output_type": "execute_result"
    }
   ],
   "source": [
    "a"
   ]
  },
  {
   "cell_type": "code",
   "execution_count": 121,
   "id": "70d88761",
   "metadata": {},
   "outputs": [
    {
     "data": {
      "text/plain": [
       "array([ 2,  5,  8, 11, 56, 32, 67,  0])"
      ]
     },
     "execution_count": 121,
     "metadata": {},
     "output_type": "execute_result"
    }
   ],
   "source": [
    "np.insert(a,4,56)\n",
    "a"
   ]
  },
  {
   "cell_type": "code",
   "execution_count": 122,
   "id": "5787aad5",
   "metadata": {},
   "outputs": [
    {
     "data": {
      "text/plain": [
       "array([[1, 2, 3, 4],\n",
       "       [3, 6, 9, 0],\n",
       "       [4, 5, 6, 9],\n",
       "       [4, 0, 1, 6],\n",
       "       [0, 0, 9, 3]])"
      ]
     },
     "execution_count": 122,
     "metadata": {},
     "output_type": "execute_result"
    }
   ],
   "source": [
    "b"
   ]
  },
  {
   "cell_type": "code",
   "execution_count": 124,
   "id": "8b71a5eb",
   "metadata": {},
   "outputs": [
    {
     "data": {
      "text/plain": [
       "array([[1, 2, 3, 4],\n",
       "       [8, 9, 0, 3],\n",
       "       [3, 6, 9, 0],\n",
       "       [4, 5, 6, 9],\n",
       "       [4, 0, 1, 6],\n",
       "       [0, 0, 9, 3]])"
      ]
     },
     "execution_count": 124,
     "metadata": {},
     "output_type": "execute_result"
    }
   ],
   "source": [
    "np.insert(b,1,[8,9,0,3], axis=0) # along rows, adding column wise"
   ]
  },
  {
   "cell_type": "code",
   "execution_count": 126,
   "id": "51297200",
   "metadata": {},
   "outputs": [
    {
     "data": {
      "text/plain": [
       "array([[1, 8, 2, 3, 4],\n",
       "       [3, 9, 6, 9, 0],\n",
       "       [4, 0, 5, 6, 9],\n",
       "       [4, 3, 0, 1, 6],\n",
       "       [0, 2, 0, 9, 3]])"
      ]
     },
     "execution_count": 126,
     "metadata": {},
     "output_type": "execute_result"
    }
   ],
   "source": [
    "np.insert(b,1,[8,9,0,3,2], axis=1) # along columns,  adding row wise"
   ]
  },
  {
   "cell_type": "code",
   "execution_count": 128,
   "id": "55b5643c",
   "metadata": {},
   "outputs": [
    {
     "data": {
      "text/plain": [
       "array([ 2,  5,  8, 11, 56, 32, 67,  0])"
      ]
     },
     "execution_count": 128,
     "metadata": {},
     "output_type": "execute_result"
    }
   ],
   "source": [
    "a"
   ]
  },
  {
   "cell_type": "code",
   "execution_count": 127,
   "id": "ef2a9f1a",
   "metadata": {},
   "outputs": [
    {
     "data": {
      "text/plain": [
       "array([ 2,  5, 11, 56, 32, 67,  0])"
      ]
     },
     "execution_count": 127,
     "metadata": {},
     "output_type": "execute_result"
    }
   ],
   "source": [
    "np.delete(a,2)"
   ]
  },
  {
   "cell_type": "code",
   "execution_count": 131,
   "id": "acd408fe",
   "metadata": {},
   "outputs": [
    {
     "data": {
      "text/plain": [
       "array([[1, 2, 3, 4],\n",
       "       [3, 6, 9, 0],\n",
       "       [4, 5, 6, 9],\n",
       "       [4, 0, 1, 6],\n",
       "       [0, 0, 9, 3]])"
      ]
     },
     "execution_count": 131,
     "metadata": {},
     "output_type": "execute_result"
    }
   ],
   "source": [
    "b"
   ]
  },
  {
   "cell_type": "code",
   "execution_count": 130,
   "id": "58c4bae7",
   "metadata": {
    "scrolled": true
   },
   "outputs": [
    {
     "data": {
      "text/plain": [
       "array([[1, 2, 3, 4],\n",
       "       [3, 6, 9, 0],\n",
       "       [4, 0, 1, 6],\n",
       "       [0, 0, 9, 3]])"
      ]
     },
     "execution_count": 130,
     "metadata": {},
     "output_type": "execute_result"
    }
   ],
   "source": [
    "np.delete(b,2, axis = 0)"
   ]
  }
 ],
 "metadata": {
  "kernelspec": {
   "display_name": "Python 3 (ipykernel)",
   "language": "python",
   "name": "python3"
  },
  "language_info": {
   "codemirror_mode": {
    "name": "ipython",
    "version": 3
   },
   "file_extension": ".py",
   "mimetype": "text/x-python",
   "name": "python",
   "nbconvert_exporter": "python",
   "pygments_lexer": "ipython3",
   "version": "3.10.0"
  }
 },
 "nbformat": 4,
 "nbformat_minor": 5
}
