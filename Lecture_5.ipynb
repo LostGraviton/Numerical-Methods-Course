{
 "cells": [
  {
   "cell_type": "markdown",
   "id": "48e553e6",
   "metadata": {},
   "source": [
    "# Interpolation"
   ]
  },
  {
   "cell_type": "markdown",
   "id": "9dfb37e6",
   "metadata": {},
   "source": [
    "## Newton's divided difference method"
   ]
  },
  {
   "cell_type": "code",
   "execution_count": 4,
   "id": "8b2e7b95",
   "metadata": {},
   "outputs": [],
   "source": [
    "import numpy as np"
   ]
  },
  {
   "cell_type": "code",
   "execution_count": 10,
   "id": "01140e55",
   "metadata": {},
   "outputs": [
    {
     "name": "stdout",
     "output_type": "stream",
     "text": [
      "Enter the number of data points:6\n",
      "Enter x[0]:5\n",
      "Enter y[0]:45\n",
      "Enter x[1]:10\n",
      "Enter y[1]:105\n",
      "Enter x[2]:15\n",
      "Enter y[2]:174\n",
      "Enter x[3]:20\n",
      "Enter y[3]:259\n",
      "Enter x[4]:25\n",
      "Enter y[4]:364\n",
      "Enter x[5]:30\n",
      "Enter y[5]:496\n",
      "[ 5. 10. 15. 20. 25. 30.] [ 45. 105. 174. 259. 364. 496.] 6\n"
     ]
    }
   ],
   "source": [
    "n = int(input(\"Enter the number of data points:\",))\n",
    "\n",
    "X = np.zeros((n))\n",
    "Y = np.zeros((n))\n",
    "\n",
    "for i in range(n):\n",
    "        j = i\n",
    "        X[i] = float(input(\"Enter x[\"+str(i)+\"]:\"))\n",
    "        Y[j] = float(input(\"Enter y[\"+str(j)+\"]:\")) \n",
    "        \n",
    "print(X,Y, len(X))  "
   ]
  },
  {
   "cell_type": "code",
   "execution_count": 27,
   "id": "da03b121",
   "metadata": {},
   "outputs": [],
   "source": [
    "# Calcuate the coefficients.\n",
    "\n",
    "def coefficient(x,y):\n",
    "    \n",
    "    n = len(x)\n",
    "    \n",
    "    f = np.zeros((n,n))    \n",
    "    \n",
    "    for i in range(n):\n",
    "        f[i][0] = y[i]\n",
    "        \n",
    "    for j in range(1, n):\n",
    "        for i in range(n-j):\n",
    "            f[i][j] = (f[i+1][j-1] - f[i][j-1]) / (x[i+j] - x[i])\n",
    "    \n",
    "    return f\n",
    "\n",
    "\n",
    "# compute the desired f(x) at given x.            \n",
    " \n",
    "def interpolate(coef, xdata , xnew):\n",
    "    \n",
    "    R = coef[0][0]\n",
    "    \n",
    "    for j in range(1, n):\n",
    "        P = coef[0][j]\n",
    "        for i in range(j):\n",
    "            P = P * (xnew - xdata[i])\n",
    "        R = R + P\n",
    "        \n",
    "    return R"
   ]
  },
  {
   "cell_type": "code",
   "execution_count": 43,
   "id": "2e305b52",
   "metadata": {},
   "outputs": [
    {
     "name": "stdout",
     "output_type": "stream",
     "text": [
      "[[ 4.50000000e+01  1.20000000e+01  1.80000000e-01  9.33333333e-03\n",
      "  -2.00000000e-04  1.60000000e-05]\n",
      " [ 1.05000000e+02  1.38000000e+01  3.20000000e-01  5.33333333e-03\n",
      "   2.00000000e-04  0.00000000e+00]\n",
      " [ 1.74000000e+02  1.70000000e+01  4.00000000e-01  9.33333333e-03\n",
      "   0.00000000e+00  0.00000000e+00]\n",
      " [ 2.59000000e+02  2.10000000e+01  5.40000000e-01  0.00000000e+00\n",
      "   0.00000000e+00  0.00000000e+00]\n",
      " [ 3.64000000e+02  2.64000000e+01  0.00000000e+00  0.00000000e+00\n",
      "   0.00000000e+00  0.00000000e+00]\n",
      " [ 4.96000000e+02  0.00000000e+00  0.00000000e+00  0.00000000e+00\n",
      "   0.00000000e+00  0.00000000e+00]]\n",
      "[ 68.672512  80.549888 117.764416 159.062784 189.586816 298.339712\n",
      " 439.207488 466.849984]\n"
     ]
    }
   ],
   "source": [
    "a = coefficient(X,Y)\n",
    "\n",
    "print(a)\n",
    "\n",
    "xnew = np.array([7,8,11,14,16,22,28,29])\n",
    "c=interpolate(a,X,xnew)\n",
    "print(c)"
   ]
  },
  {
   "cell_type": "code",
   "execution_count": 49,
   "id": "7a694038",
   "metadata": {},
   "outputs": [
    {
     "data": {
      "text/plain": [
       "[<matplotlib.lines.Line2D at 0x291f38cfd90>]"
      ]
     },
     "execution_count": 49,
     "metadata": {},
     "output_type": "execute_result"
    },
    {
     "data": {
      "image/png": "[encoded data removed]",
      "text/plain": [
       "<Figure size 432x288 with 1 Axes>"
      ]
     },
     "metadata": {
      "needs_background": "light"
     },
     "output_type": "display_data"
    }
   ],
   "source": [
    "import matplotlib.pyplot as plt\n",
    "plt.plot(X,Y, color = 'r')"
   ]
  },
  {
   "cell_type": "code",
   "execution_count": 57,
   "id": "1150e286",
   "metadata": {},
   "outputs": [
    {
     "name": "stdout",
     "output_type": "stream",
     "text": [
      "[ 5. 10. 15. 20. 25. 30.  7.  8. 11. 14. 16. 22. 28. 29.] [ 45.       105.       174.       259.       364.       496.\n",
      "  68.672512  80.549888 117.764416 159.062784 189.586816 298.339712\n",
      " 439.207488 466.849984]\n"
     ]
    },
    {
     "data": {
      "text/plain": [
       "[<matplotlib.lines.Line2D at 0x291f393ab00>]"
      ]
     },
     "execution_count": 57,
     "metadata": {},
     "output_type": "execute_result"
    },
    {
     "data": {
      "image/png": "[encoded data removed]",
      "text/plain": [
       "<Figure size 432x288 with 1 Axes>"
      ]
     },
     "metadata": {
      "needs_background": "light"
     },
     "output_type": "display_data"
    }
   ],
   "source": [
    "x_n = np.concatenate((X,xnew))\n",
    "y_n = np.concatenate((Y,c))\n",
    "print(x_n, y_n)\n",
    "plt.plot(np.sort(x_n), np.sort(y_n), color = 'r')"
   ]
  },
  {
   "cell_type": "markdown",
   "id": "a014a8e7",
   "metadata": {},
   "source": [
    "### Concatenation"
   ]
  },
  {
   "cell_type": "code",
   "execution_count": 54,
   "id": "1ed90853",
   "metadata": {},
   "outputs": [
    {
     "name": "stdout",
     "output_type": "stream",
     "text": [
      "[[1 2]\n",
      " [3 4]]\n",
      "[[5 6]\n",
      " [7 8]]\n"
     ]
    }
   ],
   "source": [
    "x = np.array([[1,2], [3,4]])\n",
    "y = np.array([[5,6], [7,8]])\n",
    "print(x)\n",
    "print(y)"
   ]
  },
  {
   "cell_type": "code",
   "execution_count": 52,
   "id": "f2b41e81",
   "metadata": {},
   "outputs": [
    {
     "data": {
      "text/plain": [
       "array([[1, 2, 5, 6],\n",
       "       [3, 4, 7, 8]])"
      ]
     },
     "execution_count": 52,
     "metadata": {},
     "output_type": "execute_result"
    }
   ],
   "source": [
    "np.concatenate((x,y), axis =1)"
   ]
  },
  {
   "cell_type": "code",
   "execution_count": 55,
   "id": "7dd88e13",
   "metadata": {},
   "outputs": [
    {
     "data": {
      "text/plain": [
       "array([[1, 2],\n",
       "       [3, 4],\n",
       "       [5, 6],\n",
       "       [7, 8]])"
      ]
     },
     "execution_count": 55,
     "metadata": {},
     "output_type": "execute_result"
    }
   ],
   "source": [
    "np.concatenate((x,y), axis =0)"
   ]
  },
  {
   "cell_type": "markdown",
   "id": "c39ea299",
   "metadata": {},
   "source": [
    "## Lagrange Interpolation"
   ]
  },
  {
   "cell_type": "code",
   "execution_count": 5,
   "id": "eacc824a",
   "metadata": {},
   "outputs": [
    {
     "name": "stdout",
     "output_type": "stream",
     "text": [
      "Enter the number of data points:6\n",
      "Enter x[0]:5\n",
      "Enter y[0]:45\n",
      "Enter x[1]:10\n",
      "Enter y[1]:105\n",
      "Enter x[2]:15\n",
      "Enter y[2]:174\n",
      "Enter x[3]:20\n",
      "Enter y[3]:259\n",
      "Enter x[4]:25\n",
      "Enter y[4]:364\n",
      "Enter x[5]:30\n",
      "Enter y[5]:496\n",
      "[ 5. 10. 15. 20. 25. 30.] [ 45. 105. 174. 259. 364. 496.] 6\n"
     ]
    }
   ],
   "source": [
    "n = int(input(\"Enter the number of data points:\",))\n",
    "\n",
    "X = np.zeros((n))\n",
    "Y = np.zeros((n))\n",
    "\n",
    "for i in range(n):\n",
    "        j = i\n",
    "        X[i] = float(input(\"Enter x[\"+str(i)+\"]:\"))\n",
    "        Y[j] = float(input(\"Enter y[\"+str(j)+\"]:\")) \n",
    "        \n",
    "print(X,Y, len(X))  "
   ]
  },
  {
   "cell_type": "code",
   "execution_count": 6,
   "id": "c72a3633",
   "metadata": {},
   "outputs": [],
   "source": [
    "def lagrange_intp(x,y,xp):\n",
    "    n = len(x)\n",
    "    s = 0\n",
    "    for i in range(n):\n",
    "        L = 1.0\n",
    "        for j in range(n):\n",
    "            \n",
    "            if i != j:\n",
    "                L = L * (xp-x[j])/(x[i] - x[j])\n",
    "                \n",
    "        s = s + L * y[i]   \n",
    "    \n",
    "    return s               "
   ]
  },
  {
   "cell_type": "code",
   "execution_count": 8,
   "id": "e0f6cb63",
   "metadata": {},
   "outputs": [
    {
     "name": "stdout",
     "output_type": "stream",
     "text": [
      "[ 68.672512  80.549888 117.764416 159.062784 189.586816 298.339712\n",
      " 439.207488 466.849984]\n"
     ]
    }
   ],
   "source": [
    "xnew = np.array([7,8,11,14,16,22,28,29])\n",
    "result = lagrange_intp(X,Y,xnew)\n",
    "print(result)"
   ]
  },
  {
   "cell_type": "markdown",
   "id": "c401e899",
   "metadata": {},
   "source": [
    "Result from Newton's method: [ 68.672512,  80.549888, 117.764416, 159.062784, 189.586816, 298.339712,\n",
    " 439.207488, 466.849984]"
   ]
  }
 ],
 "metadata": {
  "kernelspec": {
   "display_name": "Python 3 (ipykernel)",
   "language": "python",
   "name": "python3"
  },
  "language_info": {
   "codemirror_mode": {
    "name": "ipython",
    "version": 3
   },
   "file_extension": ".py",
   "mimetype": "text/x-python",
   "name": "python",
   "nbconvert_exporter": "python",
   "pygments_lexer": "ipython3",
   "version": "3.10.0"
  }
 },
 "nbformat": 4,
 "nbformat_minor": 5
}
