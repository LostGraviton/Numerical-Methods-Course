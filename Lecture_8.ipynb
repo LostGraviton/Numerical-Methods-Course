{
 "cells": [
  {
   "cell_type": "markdown",
   "id": "3cd7c595",
   "metadata": {},
   "source": [
    "# Curve Fitting"
   ]
  },
  {
   "cell_type": "code",
   "execution_count": 3,
   "id": "9c31bb84",
   "metadata": {},
   "outputs": [],
   "source": [
    "import numpy as np\n",
    "import matplotlib.pyplot as plt"
   ]
  },
  {
   "cell_type": "code",
   "execution_count": 7,
   "id": "7cbece09",
   "metadata": {},
   "outputs": [
    {
     "data": {
      "text/plain": [
       "[<matplotlib.lines.Line2D at 0x12db6282f80>]"
      ]
     },
     "execution_count": 7,
     "metadata": {},
     "output_type": "execute_result"
    },
    {
     "data": {
      "image/png": "[encoded data removed]",
      "text/plain": [
       "<Figure size 432x288 with 1 Axes>"
      ]
     },
     "metadata": {
      "needs_background": "light"
     },
     "output_type": "display_data"
    }
   ],
   "source": [
    "x = np.array([1, 2, 3, 4, 5, 6, 7, 8, 9, 10])\n",
    "y = np.array([3.1, 5.9, 7.2, 10.0, 11.3, 13.2, 16.9, 18.5, 21.8, 25.7])\n",
    "\n",
    "plt.plot(x, y, 'o')"
   ]
  },
  {
   "cell_type": "markdown",
   "id": "16807be1",
   "metadata": {},
   "source": [
    "## Least Square Method"
   ]
  },
  {
   "cell_type": "markdown",
   "id": "3731a4c4",
   "metadata": {},
   "source": [
    "### Linear Fit"
   ]
  },
  {
   "cell_type": "code",
   "execution_count": 9,
   "id": "d3569076",
   "metadata": {},
   "outputs": [
    {
     "name": "stdout",
     "output_type": "stream",
     "text": [
      "number of data points: 10\n",
      "x[0]:1\n",
      "y[0]:3.1\n",
      "x[1]:2\n",
      "y[1]:5.9\n",
      "x[2]:3\n",
      "y[2]:7.2\n",
      "x[3]:4\n",
      "y[3]:10.0\n",
      "x[4]:5\n",
      "y[4]:11.3\n",
      "x[5]:6\n",
      "y[5]:13.2\n",
      "x[6]:7\n",
      "y[6]:16.9\n",
      "x[7]:8\n",
      "y[7]:18.5\n",
      "x[8]:9\n",
      "y[8]:21.8\n",
      "x[9]:10\n",
      "y[9]:25.7\n"
     ]
    }
   ],
   "source": [
    "from numpy import *\n",
    "n = int(input(\"number of data points: \"))\n",
    "x = zeros(n)\n",
    "y = zeros(n)\n",
    "\n",
    "for i in range(n):\n",
    "    x[i] = float(input(\"x[\"+str(i)+\"]:\"))\n",
    "    y[i] = float(input(\"y[\"+str(i)+\"]:\"))\n",
    "\n",
    "sx2 = 0.0\n",
    "sxy = 0.0\n",
    "sx = 0.0\n",
    "sy = 0.0\n",
    "\n",
    "for i in range(n):\n",
    "    sx2 = sx2 + x[i]*x[i]\n",
    "    sxy = sxy + x[i]*y[i]\n",
    "    sx = sx + x[i]\n",
    "    sy = sy + y[i]\n",
    "\n",
    "a1 = (n * sxy-sx*sy)/(n* sx2-sx**2)\n",
    "a0 = (sy * sx2 - sx * sxy)/(n* sx2-sx**2)"
   ]
  },
  {
   "cell_type": "code",
   "execution_count": 10,
   "id": "94a5c27f",
   "metadata": {},
   "outputs": [
    {
     "name": "stdout",
     "output_type": "stream",
     "text": [
      "0.23333333333333334 2.3866666666666667\n"
     ]
    }
   ],
   "source": [
    "print(a0,a1)"
   ]
  },
  {
   "cell_type": "code",
   "execution_count": 15,
   "id": "ebc11637",
   "metadata": {},
   "outputs": [
    {
     "data": {
      "text/plain": [
       "Text(0.5, 1.0, 'Linear Fitting')"
      ]
     },
     "execution_count": 15,
     "metadata": {},
     "output_type": "execute_result"
    },
    {
     "data": {
      "image/png": "[encoded data removed]",
      "text/plain": [
       "<Figure size 432x288 with 1 Axes>"
      ]
     },
     "metadata": {
      "needs_background": "light"
     },
     "output_type": "display_data"
    }
   ],
   "source": [
    "yfit = a1*x + a0\n",
    "plt.plot(x,y,'o')\n",
    "plt.plot(x,yfit)\n",
    "plt.xlabel(\"x\")\n",
    "plt.ylabel(\"y\")\n",
    "plt.title(\"Linear Fitting\")"
   ]
  },
  {
   "cell_type": "markdown",
   "id": "bd8bf4f8",
   "metadata": {},
   "source": [
    "For non linear curve fitting program, refer to the book by Abhijit Kar Gupta."
   ]
  }
 ],
 "metadata": {
  "kernelspec": {
   "display_name": "Python 3 (ipykernel)",
   "language": "python",
   "name": "python3"
  },
  "language_info": {
   "codemirror_mode": {
    "name": "ipython",
    "version": 3
   },
   "file_extension": ".py",
   "mimetype": "text/x-python",
   "name": "python",
   "nbconvert_exporter": "python",
   "pygments_lexer": "ipython3",
   "version": "3.10.0"
  }
 },
 "nbformat": 4,
 "nbformat_minor": 5
}
